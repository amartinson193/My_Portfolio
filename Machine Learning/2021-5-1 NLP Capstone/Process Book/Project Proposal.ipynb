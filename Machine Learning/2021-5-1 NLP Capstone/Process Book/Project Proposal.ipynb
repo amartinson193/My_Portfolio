{
 "cells": [
  {
   "cell_type": "markdown",
   "metadata": {},
   "source": [
    "# Basic Info\n",
    "#### (The project title, your names, e-mail addresses, UIDs.)\n",
    "\n",
    "* Project title: Improving Healthcare Documentation using NLP\n",
    "\n",
    "**Team Member 1**\n",
    "* Name: Mike Sanders\n",
    "* email: cellsrule@gmail.com u0071565@utah.edu \n",
    "* UID: u0071565\n",
    "\n",
    "**Team Member 2**\n",
    "* Name: Andreas Martinson\n",
    "* email: andreas.martinson@utah.edu\n",
    "* UID: u1291396"
   ]
  },
  {
   "cell_type": "markdown",
   "metadata": {},
   "source": [
    "# Background and Motivation. \n",
    "#### (Discuss your motivations and reasons for choosing this project, especially any background or research interests that may have influenced your decision)\n",
    "\n",
    "We want to work on an NLP project related to healthcare since both of us are passionate about making improvements in healthcare and we also wanted to work on an ambitious project that we could add to our portfolios once we are done. \n",
    "\n",
    "One of us has taken an NLP class in the past and gotten some exposure to the processes required, but this will require learning new processes in order to complete this project. \n",
    "\n",
    "We decided to use the MIMIC III database, which is made available through the MIT Laboratory for Computational Physiology and is hosted on Physionet. This is a link to their website: https://mimic.physionet.org/about/mimic/. Here is an excerpt from the acknowledgements section of their website that describes the dataset we are using, \n",
    "\n",
    "\"MIMIC-III (Medical Information Mart for Intensive Care III) is a large, freely-available database comprising deidentified health-related data associated with over forty thousand patients who stayed in critical care units of the Beth Israel Deaconess Medical Center between 2001 and 2012.\n",
    "\n",
    "The database includes information such as demographics, vital sign measurements made at the bedside (~1 data point per hour), laboratory test results, procedures, medications, caregiver notes, imaging reports, and mortality (both in and out of hospital).\"\n",
    "\n",
    "This dataset has a lot of clinical note records considering there are 40,000 patients. Our goal is to use those clinical notes to predict the discharge diagnosis ICD-9 code. This is a robust data source that will make the type of analysis that we want to complete possible. \n",
    "\n",
    "The inspiration was to provide the end product first to a physician who can accept or reject the suggested diagnosis and procedure codes. These would be the ICD-9 and CPT codes respectively. The patient will then receive the diagnosis/procedures and notes soon after meeting with the physician to verify if the information seems accurate. Then, this data paired with patient and physician feedback will be sent to hospital coders and the hope is that this process will improve the accuracy and billing for various kinds of patient encounters. For the patient, this will hopefully help to reduce upcoding. For the physician, this will help them capture all possible conditions. \n",
    "\n",
    "This is increasingly important in value based care, since poor documentation can lead to decreased revenue and data where there seems to be a gap in care. One example is for HCC (Hierarchical Condition Category) documentation since CMS pays for patient care based on a risk adjustment factor (often called a RAF score), which the HCC's heavily influence. We can map our ICD-9 codes back to a dataset from CMS from 2014 that maps ICD-9 codes to HCC's. Here is the dataset we will be using in our project: https://www.cms.gov/Medicare/Health-Plans/MedicareAdvtgSpecRateStats/Risk-Adjustors-Items/Risk2014.\n",
    "\n",
    "In the future, an application of the end result could be extended to encourage patients to write notes about their visit and also verify CPT and ICD descriptions about what occurred during their visit. We would then use NLP on these notes in order to improve accuracy of the diagnosis for coding and billing. The hope is that this would in turn help to reduce fraud, waste, and abuse in the healthcare system and encourage involvement from both parties. The hospital would be incentivized due to increased revenue from proper documentation and the patient would be incentivized to help prevent being billed for either procedures that never occurred or inaccurate diagnosis. The hospital coder would then be the final determinant in the billing and coding process.\n"
   ]
  },
  {
   "cell_type": "markdown",
   "metadata": {},
   "source": [
    "# Project Objectives. \n",
    "#### (Provide the primary questions you are trying to answer in your project. What would you like to learn and accomplish? List the benefits)\n",
    "\n",
    "**Primary Questions**\n",
    "\n",
    "Here are a few questions that we would like to answer:\n",
    "\n",
    "* Can diagnosis or procedure codes be predicted from doctor's/patient notes?\n",
    "* Are some codes harder to predict than others?\n",
    "* Are some codes ignored? \n",
    "* Is it easier to predict procedure or diagnosis codes?\n",
    "\n",
    "**What would you like to learn and accomplish?**\n",
    "\n",
    "* How the healthcare documentation and coding process works\n",
    "    * Specifically, a better understanding of ICD and CPT codes\n",
    "* Potential impact of NLP for physicians, patients, coders, and hospital\n",
    "* Natural Language Processing\n",
    "* How to effectively use the nltk and Spacy libraries"
   ]
  },
  {
   "cell_type": "markdown",
   "metadata": {},
   "source": [
    "# Data. \n",
    "#### From where and how are you collecting your data? If appropriate, provide a link to your data sources.\n",
    "\n",
    "* MIMIC III Database with Clinical Notes\n",
    "    * https://mimic.physionet.org/about/mimic/\n",
    "* ICD-9 to HCC mapping\n",
    "    * https://www.cms.gov/Medicare/Health-Plans/MedicareAdvtgSpecRateStats/Risk-Adjustors-Items/Risk2014 \n",
    "    "
   ]
  },
  {
   "cell_type": "markdown",
   "metadata": {},
   "source": [
    "# Ethical considerations. \n",
    "#### Complete a stakeholder analysis for your project.\n",
    "\n",
    "**Who are the different \"personas\" relevant to your project?\n",
    "\n",
    "Physicians, patients, providers (hospital, clinics, SNFs, etc...), payers (insurance, government - CMS). Excludes holistic therapy and medications.\n",
    "\n",
    "**What are some incentives that may align or compete among these groups?**\n",
    "\n",
    "In a fee-for-service model, the patient's well-being is not aligned with the provider. This also applies to insurance companies since they can just adjust rates for increased utilization. As a result, healthcare costs have increased by a staggering amount in the past few decades. This increase is not necessarily due to insidious motives from the providers or payers, but rather a result of a system whose incentives are not aligned with the patients.\n",
    "\n",
    "A value-based care model can incentivize payers and providers to align with  patient wellness, but all stakeholders must have a voice.  A Natural language method of predicting billing codes can provide each stakeholder with an interactive voice in medical billing.  Physicians and providers can improve billing accuracy and completeness as well as documentation.  Patients, with a real-time interaction with medical billing codes, can take a larger role in billing accuracy and procedure value, while taking a more active role in personal wellness.  Payers (insurance, government) get more accurate feedback, from both provider and patient, increasing efficiency and reducing liability.  This makes the overall system more sustainable and profitable, but it does take the power away from providers and payers, which at the moment, have nearly exclusive control of medical billing.  This could reduce the need for Hospital coders and ultimately lead to smaller insurance systems and hospitals.  Reduction in fraud, waste and abuse would hurt those who benefit from fraud, waste or abuse.\n",
    "\n",
    "**Is the data you collected biased or unbiased?**\n",
    "\n",
    "The data is biased since there are only patient records from one hospital and so the data might over-represent the demographic of the patients that live near the hospital. Another reason it is biased is because the hospital does not provide all services available in the healthcare system. This can limit the model to only predict the procedures and diagnosis specific to the hospital. The most bias in our data will most likely be from the inherent bias in the physician notes. \n",
    "\n",
    "**Are there certain groups that would be disproportionally affected by analysis or by the data?**\n",
    "\n",
    "Healthy people won't get as much benefit from this model since they will be under-represented in our dataset. Also, anyone not represented or under-represented in the demographic that goes to the hospital will be affected.\n"
   ]
  },
  {
   "cell_type": "markdown",
   "metadata": {},
   "source": [
    "# Data Processing. \n",
    "#### Do you expect to do substantial data cleanup or data extraction? What quantities do you plan to derive from your data? How will data processing be implemented?\n",
    "\n",
    "#### Do you expect to do substantial data cleanup or data extraction? \n",
    "\n",
    "The data cleanup will involve downloading the data from the MIMIC III database, this will be pretty simple since they are just in zip files. We also hope to use the cTakes NLP tool, which takes text as input and return XMI files. We will need to parse those files using regex. Besides that, we will need to import one more CSV file that has HCC codes and join that data to our ICD table. \n",
    "\n",
    "#### What quantities do you plan to derive from your data?\n",
    "\n",
    "We will get primarily ICD and CPT codes. Besides that information, we want to extract SNOMED-CT codes from the cTakes input that we give it.\n",
    "\n",
    "#### How will data processing be implemented?\n",
    "\n",
    "Multiple records of single incident need to be combined to single record. Since we are working with NLP data, we will plan on using various approaches to see what works best. A couple of approaches that we will take include:\n",
    "* lowercasing all words\n",
    "* lemmitizing words\n",
    "* removing punctuation\n",
    "* removing stop words\n",
    "* vectorize words\n",
    "* utilize the Unified Medical Language System to map words to medical terminology\n",
    "* balance data to have uniform classes   \n",
    "We will also use the gzip and pandas libraries to load our data. We will load all of the files as dataframes into a dictionary and use that dictionary as our main source for referencing our data from MIMIC. "
   ]
  },
  {
   "cell_type": "markdown",
   "metadata": {},
   "source": [
    "# Exploratory Analysis. \n",
    "#### Which methods and visualizations are you planning to use to look at your dataset?\n",
    "\n",
    "* Histograms of word frequency for code class\n",
    "    * For example types of words radiology codes have compared to oncology codes \n",
    "* Compare stop words percentage to date and patient, using line chart \n",
    "* Chart of code usage compared to time and patient\n",
    "* Chart unique words by date and patient"
   ]
  },
  {
   "cell_type": "markdown",
   "metadata": {},
   "source": [
    "# Analysis Methodology. \n",
    "#### How are you planning to analyze your data?\n",
    "\n",
    "First, we will preprocess the data based on the instructions that we put in the data processing section. Then we will split the data into test and training and use cross validation and k-fold to improve the reliability of our results. We will use naive bayes, logistic regression, and a few other supervised learning methods to train our model. We will also use one deep learning method to train our model and see how that compares to the supervised model. We will then use hyperparameter tuning on our model. We will use grid search to find the optimal parameters for our model to improve performance. Finally, we will use ROC, as well as the F-score, accuracy, precision, and recall to evaluate our models. \n",
    "\n",
    "This will result in a model where we can input free text and get a prediction for a CPT or ICD code in return.\n"
   ]
  },
  {
   "cell_type": "markdown",
   "metadata": {},
   "source": [
    "# Project Schedule. \n",
    "#### Make sure that you plan your work so that you can avoid a big rush right before the final project deadline, and delegate different modules and responsibilities among your team members. Write this in terms of weekly deadlines.\n",
    "\n",
    "Regular meetings on:\n",
    "* Wednesday - 7:30pm \n",
    "* Saturdays - 10am\n",
    "\n",
    "Important deadlines:\n",
    "* March 28th - Project Proposal\n",
    "* April 12th - First Milestone\n",
    "* April 15th - Capstone Presentation\n",
    "* April 26th - Final Submission\n",
    "\n",
    "#### March 28 - April 3rd\n",
    "\n",
    "* Complete exploratory analysis\n",
    "* Complete preprocessing of the data\n",
    "* Complete loading into cTakes and parsing files using regex\n",
    "* Complete Bag of Words and Naive Bayes/logistic regression models\n",
    "\n",
    "#### April 4th - April 10th\n",
    "\n",
    "* Complete model exploration\n",
    "* Complete validation and evaluation of model performance\n",
    "* Finish hyperparameter tuning\n",
    "* Start building front-end in Streamlit\n",
    "\n",
    "#### April 11th - 17th\n",
    "\n",
    "* Complete project ahead of time\n"
   ]
  }
 ],
 "metadata": {
  "kernelspec": {
   "display_name": "Python 3",
   "language": "python",
   "name": "python3"
  },
  "language_info": {
   "codemirror_mode": {
    "name": "ipython",
    "version": 3
   },
   "file_extension": ".py",
   "mimetype": "text/x-python",
   "name": "python",
   "nbconvert_exporter": "python",
   "pygments_lexer": "ipython3",
   "version": "3.8.6"
  }
 },
 "nbformat": 4,
 "nbformat_minor": 4
}

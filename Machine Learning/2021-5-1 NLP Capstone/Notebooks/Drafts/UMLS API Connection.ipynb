{
 "cells": [
  {
   "cell_type": "code",
   "execution_count": 8,
   "metadata": {},
   "outputs": [],
   "source": [
    "#!/usr/bin/python\n",
    "## 6/16/2017 - remove PyQuery dependency\n",
    "## 5/19/2016 - update to allow for authentication based on api-key, rather than username/pw\n",
    "## See https://documentation.uts.nlm.nih.gov/rest/authentication.html for full explanation\n",
    "\n",
    "import requests\n",
    "#from pyquery import PyQuery as pq\n",
    "import lxml.html as lh\n",
    "from lxml.html import fromstring\n",
    "\n",
    "uri=\"https://utslogin.nlm.nih.gov\"\n",
    "#option 1 - username/pw authentication at /cas/v1/tickets\n",
    "#auth_endpoint = \"/cas/v1/tickets/\"\n",
    "#option 2 - api key authentication at /cas/v1/api-key\n",
    "auth_endpoint = \"/cas/v1/api-key\"\n",
    "\n",
    "class Authentication:\n",
    "\n",
    "    #def __init__(self, username,password):\n",
    "    def __init__(self, apikey):\n",
    "        #self.username=username\n",
    "        #self.password=password\n",
    "        self.apikey=apikey\n",
    "        self.service=\"http://umlsks.nlm.nih.gov\"\n",
    "\n",
    "    def gettgt(self):\n",
    "        #params = {'username': self.username,'password': self.password}\n",
    "        params = {'apikey': self.apikey}\n",
    "        h = {\"Content-type\": \"application/x-www-form-urlencoded\", \"Accept\": \"text/plain\", \"User-Agent\":\"python\" }\n",
    "        r = requests.post(uri+auth_endpoint,data=params,headers=h)\n",
    "        response = fromstring(r.text)\n",
    "        ## extract the entire URL needed from the HTML form (action attribute) returned - looks similar to https://utslogin.nlm.nih.gov/cas/v1/tickets/TGT-36471-aYqNLN2rFIJPXKzxwdTNC5ZT7z3B3cTAKfSc5ndHQcUxeaDOLN-cas\n",
    "        ## we make a POST call to this URL in the getst method\n",
    "        tgt = response.xpath('//form/@action')[0]\n",
    "        return tgt\n",
    "\n",
    "    def getst(self,tgt):\n",
    "\n",
    "        params = {'service': self.service}\n",
    "        h = {\"Content-type\": \"application/x-www-form-urlencoded\", \"Accept\": \"text/plain\", \"User-Agent\":\"python\" }\n",
    "        r = requests.post(tgt,data=params,headers=h)\n",
    "        st = r.text\n",
    "        return st"
   ]
  },
  {
   "cell_type": "code",
   "execution_count": 42,
   "metadata": {},
   "outputs": [],
   "source": [
    "import json"
   ]
  },
  {
   "cell_type": "code",
   "execution_count": 58,
   "metadata": {},
   "outputs": [
    {
     "data": {
      "text/plain": [
       "'https://utslogin.nlm.nih.gov/cas/v1/api-key/TGT-3566438-92HlAmMpxu0ZfblfzYLgrAcGnbRqJ5bBrkvRjYAg52QHFvJM1a-cas'"
      ]
     },
     "execution_count": 58,
     "metadata": {},
     "output_type": "execute_result"
    }
   ],
   "source": [
    "auth = Authentication('ecf1a8f1-da25-492c-8a18-b8c16faf8c72')\n",
    "x = auth.gettgt()\n",
    "x\n",
    "# dir(Authentication)."
   ]
  },
  {
   "cell_type": "code",
   "execution_count": 59,
   "metadata": {},
   "outputs": [
    {
     "data": {
      "text/plain": [
       "'ST-9776167-XLShusToKv0YKV3HMv9d-cas'"
      ]
     },
     "execution_count": 59,
     "metadata": {},
     "output_type": "execute_result"
    }
   ],
   "source": [
    "ticket = auth.getst(x)\n",
    "ticket"
   ]
  },
  {
   "cell_type": "code",
   "execution_count": 27,
   "metadata": {},
   "outputs": [],
   "source": [
    "base_uri = 'https://uts-ws.nlm.nih.gov/rest'"
   ]
  },
  {
   "cell_type": "code",
   "execution_count": 33,
   "metadata": {},
   "outputs": [
    {
     "data": {
      "text/plain": [
       "b'{\"error\":\"No results containing all your search terms were found.\",\"documentation\":\"https://documentation.uts.nlm.nih.gov/\"}'"
      ]
     },
     "execution_count": 33,
     "metadata": {},
     "output_type": "execute_result"
    }
   ],
   "source": [
    "# Crosswalk attempt\n",
    "\n",
    "response = requests.get(base_uri + '/crosswalk/current/source/CPT/94002?\\\n",
    "targetSource=SNOMEDCT_US&ticket=' + ticket)\n",
    "\n",
    "response.content"
   ]
  },
  {
   "cell_type": "code",
   "execution_count": 80,
   "metadata": {},
   "outputs": [
    {
     "name": "stdout",
     "output_type": "stream",
     "text": [
      "<Response [200]>\n"
     ]
    },
    {
     "data": {
      "text/plain": [
       "b'{\"pageSize\":25,\"pageNumber\":1,\"result\":{\"classType\":\"searchResults\",\"results\":[{\"ui\":\"C0374569\",\"rootSource\":\"MTH\",\"uri\":\"https://uts-ws.nlm.nih.gov/rest/content/2020AB/CUI/C0374569\",\"name\":\"Subsequent hospital care, per day, for the evaluation and management of a patient, which requires at least 2 of these 3 key components: A problem focused interval history; A problem focused examination; Medical decision making that is straightforward or of low complexity. Counseling and/or coordination of care with other providers or agencies are provided consistent with the nature of the problem(s) and the patient\\'s and/or family\\'s needs. Usually, the patient is stable, recovering or improving. Physicians typically spend 15 minutes at the bedside and on the patient\\'s hospital floor or unit.\"},{\"ui\":\"C3517385\",\"rootSource\":\"CPT\",\"uri\":\"https://uts-ws.nlm.nih.gov/rest/content/2020AB/CUI/C3517385\",\"name\":\"Subsequent hospital inpatient care, typically 15 minutes per day\"}]}}'"
      ]
     },
     "execution_count": 80,
     "metadata": {},
     "output_type": "execute_result"
    }
   ],
   "source": [
    "# Get ticket\n",
    "ticket = auth.getst(x)\n",
    "\n",
    "# Run a search\n",
    "search = '/search/current'\n",
    "response = requests.get(base_uri + search + '?string=99231&inputType=sourceUi&searchType=exact&sabs=CPT&ticket=' + ticket)\n",
    "\n",
    "# print response\n",
    "print(response)\n",
    "response.content"
   ]
  },
  {
   "cell_type": "code",
   "execution_count": 121,
   "metadata": {},
   "outputs": [
    {
     "data": {
      "text/plain": [
       "'Ventilation assist and management, initiation of pressure or volume preset ventilators for assisted or controlled breathing; hospital inpatient/observation, each subsequent day'"
      ]
     },
     "execution_count": 121,
     "metadata": {},
     "output_type": "execute_result"
    }
   ],
   "source": [
    "base_uri = 'https://uts-ws.nlm.nih.gov/rest'\n",
    "search = '/search/2008AA'\n",
    "code = '94003'\n",
    "\n",
    "def search_code(path, code):\n",
    "    query = {'ticket': auth.getst(x), 'string':code, 'sabs':'CPT', 'inputType':'code', 'searchType':'exact'}\n",
    "    r = requests.get(base_uri + path, params=query)\n",
    "    items = json.loads(r.text)\n",
    "    \n",
    "    return items\n",
    "\n",
    "result = search_code(search, code)\n",
    "result['result']['results'][0]['name']"
   ]
  },
  {
   "cell_type": "code",
   "execution_count": 103,
   "metadata": {},
   "outputs": [
    {
     "data": {
      "text/plain": [
       "{'pageSize': 25,\n",
       " 'pageNumber': 1,\n",
       " 'result': {'classType': 'searchResults',\n",
       "  'results': [{'ui': 'NONE', 'name': 'NO RESULTS'}]}}"
      ]
     },
     "execution_count": 103,
     "metadata": {},
     "output_type": "execute_result"
    }
   ],
   "source": [
    "result\n",
    "# result['result']['results'][0]['name']"
   ]
  }
 ],
 "metadata": {
  "kernelspec": {
   "display_name": "Python 3",
   "language": "python",
   "name": "python3"
  },
  "language_info": {
   "codemirror_mode": {
    "name": "ipython",
    "version": 3
   },
   "file_extension": ".py",
   "mimetype": "text/x-python",
   "name": "python",
   "nbconvert_exporter": "python",
   "pygments_lexer": "ipython3",
   "version": "3.8.6"
  }
 },
 "nbformat": 4,
 "nbformat_minor": 4
}

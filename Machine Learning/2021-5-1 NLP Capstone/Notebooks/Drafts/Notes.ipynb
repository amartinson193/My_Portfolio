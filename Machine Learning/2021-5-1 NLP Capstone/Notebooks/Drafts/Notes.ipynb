{
 "cells": [
  {
   "cell_type": "markdown",
   "metadata": {},
   "source": [
    "data sets:   \n",
    "CPT codes American Association of Professional Coders   \n",
    "https://www.aapc.com/resources/medical-coding/cpt.aspx\n",
    "\n",
    "possible good one   \n",
    "https://uts.nlm.nih.gov/uts/login?service=https:%2F%2Fdownload.nlm.nih.gov%2Fumls%2Fkss%2F2020AB%2Fumls-2020AB-full.zip\n",
    "\n",
    "NCCI_Medically_Unlikely_Edits__MUEs_.csv   \n",
    "Diagnostic_Procedure_Codes___Procedure_Group_1119_.csv   \n",
    "\n",
    "https://www.data.gov/"
   ]
  },
  {
   "cell_type": "markdown",
   "metadata": {},
   "source": [
    "training for mimic   \n",
    "umls  \n",
    "repository\n",
    "\n",
    "meet sat   \n",
    "nltk package   \n",
    "synthea   \n",
    "medicare"
   ]
  },
  {
   "cell_type": "markdown",
   "metadata": {},
   "source": [
    "FHIR database"
   ]
  }
 ],
 "metadata": {
  "kernelspec": {
   "display_name": "Python 3",
   "language": "python",
   "name": "python3"
  },
  "language_info": {
   "codemirror_mode": {
    "name": "ipython",
    "version": 3
   },
   "file_extension": ".py",
   "mimetype": "text/x-python",
   "name": "python",
   "nbconvert_exporter": "python",
   "pygments_lexer": "ipython3",
   "version": "3.8.5"
  }
 },
 "nbformat": 4,
 "nbformat_minor": 4
}

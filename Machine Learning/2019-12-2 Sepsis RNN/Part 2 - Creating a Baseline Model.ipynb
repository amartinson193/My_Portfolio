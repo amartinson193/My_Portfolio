{
 "cells": [
  {
   "cell_type": "code",
   "execution_count": 1,
   "metadata": {},
   "outputs": [],
   "source": [
    "# Load the data\n",
    "import numpy as np\n",
    "\n",
    "data = np.genfromtxt(\"./training data/result_file_original.psv\", delimiter='|',skip_footer = 1)"
   ]
  },
  {
   "cell_type": "code",
   "execution_count": 2,
   "metadata": {},
   "outputs": [],
   "source": [
    "import pandas as pd\n",
    "\n",
    "#### Set the correct columns and drop unnecessary columns\n",
    "\n",
    "df = pd.DataFrame(data)\n",
    "columns  = \"patient no|hour no|HR|O2Sat|Temp|SBP|MAP|DBP|Resp|EtCO2|BaseExcess|HCO3|FiO2|pH|PaCO2|SaO2|AST|BUN|Alkalinephos|Calcium|Chloride|Creatinine|Bilirubin_direct|Glucose|Lactate|Magnesium|Phosphate|Potassium|Bilirubin_total|TroponinI|Hct|Hgb|PTT|WBC|Fibrinogen|Platelets|Age|Gender|Unit1|Unit2|HospAdmTime|ICULOS|SepsisLabel\"\n",
    "columns = columns.split('|')\n",
    "df.columns = columns\n",
    "# print(df.head)\n",
    "df = df.drop(['Unit1','Unit2','patient no', 'hour no'], axis = 1)\n",
    "# print(df.head)\n",
    "\n",
    "#### Replace NA values\n",
    "\n",
    "df = df.fillna(method='bfill').fillna(method='ffill').fillna(value=0)\n",
    "\n",
    "# print(df.head)\n",
    "\n",
    "#### Convert the sepsis label column to integers\n",
    "\n",
    "df['SepsisLabel'] = df['SepsisLabel'].astype(str)\n",
    "df['SepsisLabel']= df['SepsisLabel'].replace({'0.0':0,'nan':0,'1.0':1})\n",
    "df = df.astype(int)\n",
    "# print(df.head)\n",
    "\n"
   ]
  },
  {
   "cell_type": "code",
   "execution_count": 3,
   "metadata": {},
   "outputs": [],
   "source": [
    "#### Set x and y\n",
    "\n",
    "y = df['SepsisLabel']\n",
    "x = df.loc[:,:'ICULOS']\n"
   ]
  },
  {
   "cell_type": "code",
   "execution_count": 4,
   "metadata": {},
   "outputs": [],
   "source": [
    "from sklearn.model_selection import train_test_split\n",
    "\n",
    "x_train, x_test, y_train, y_test = train_test_split(x,y, test_size=0.40, random_state=2018, shuffle = True, stratify = y) # splitting data into x and y training sets\n",
    "\n",
    "x_val,x_test, y_val, y_test = train_test_split(x_test,y_test, test_size=0.50, random_state=2018) # splitting data into x and y training sets\n",
    "\n",
    "# print(len(x_train)) # checking sizes are 60/20/20\n",
    "# print(len(x_val))   # checking sizes are 60/20/20\n",
    "# print(x_test.shape)  # checking sizes are 60/20/20\n",
    "# print(y_test.shape)\n",
    "# print(y_test)"
   ]
  },
  {
   "cell_type": "code",
   "execution_count": 5,
   "metadata": {},
   "outputs": [
    {
     "name": "stderr",
     "output_type": "stream",
     "text": [
      "/opt/conda/lib/python3.7/site-packages/sklearn/linear_model/logistic.py:432: FutureWarning: Default solver will be changed to 'lbfgs' in 0.22. Specify a solver to silence this warning.\n",
      "  FutureWarning)\n"
     ]
    },
    {
     "name": "stdout",
     "output_type": "stream",
     "text": [
      "0.5009699548275393\n"
     ]
    }
   ],
   "source": [
    "# Importing different classifiers\n",
    "from sklearn.linear_model import LogisticRegression\n",
    "from sklearn.neighbors import KNeighborsClassifier\n",
    "from sklearn.metrics import f1_score\n",
    "\n",
    "# # Logistic Regression \n",
    "    \n",
    "log = LogisticRegression().fit(x_train, y_train) # taken from https://scikit-learn.org/stable/modules/generated/sklearn.linear_model.LogisticRegression.html\n",
    "# print(log.score(x_train_pca, y_train)) # returned .98\n",
    "Y_pred = log.predict(x_test)\n",
    "log_f1 = f1_score(y_test, Y_pred, average = 'macro')\n",
    "print(log_f1)\n",
    "    \n",
    "# # KNN\n",
    "    \n",
    "neigh = KNeighborsClassifier()\n",
    "neigh.fit(x_train, y_train) # https://scikit-learn.org/stable/modules/generated/sklearn.neighbors.KNeighborsClassifier.html\n",
    "Y_pred = neigh.predict(x_test)\n",
    "neigh_f1 = f1_score(y_test, Y_pred, average = 'macro')\n",
    "print(neigh_f1)"
   ]
  },
  {
   "cell_type": "code",
   "execution_count": 6,
   "metadata": {},
   "outputs": [
    {
     "name": "stdout",
     "output_type": "stream",
     "text": [
      "0.8473517262822964\n"
     ]
    }
   ],
   "source": [
    "neigh = KNeighborsClassifier()\n",
    "neigh.fit(x_train, y_train) # https://scikit-learn.org/stable/modules/generated/sklearn.neighbors.KNeighborsClassifier.html\n",
    "Y_pred = neigh.predict(x_test)\n",
    "neigh_f1 = f1_score(y_test, Y_pred, average = 'macro')\n",
    "print(neigh_f1)"
   ]
  },
  {
   "cell_type": "code",
   "execution_count": 8,
   "metadata": {},
   "outputs": [
    {
     "name": "stdout",
     "output_type": "stream",
     "text": [
      "0.9883956366581458\n",
      "[[154064    558]\n",
      " [  1276   2146]]\n",
      "154064 558 1276 2146\n"
     ]
    }
   ],
   "source": [
    "from sklearn.metrics import accuracy_score\n",
    "\n",
    "print(accuracy_score(y_test, Y_pred))\n",
    "\n",
    "from sklearn.metrics import confusion_matrix\n",
    "conf_mtrx = confusion_matrix(y_test, Y_pred)\n",
    "print(conf_mtrx)\n",
    "tn, fp, fn, tp = conf_mtrx.ravel()\n",
    "print(tn, fp, fn, tp)"
   ]
  },
  {
   "cell_type": "code",
   "execution_count": null,
   "metadata": {},
   "outputs": [],
   "source": [
    "# DIDNT END UP USING SINCE IT TOOK >6 HOURS\n",
    "\n",
    "# Build the SVM here\n",
    "from sklearn.svm import SVC\n",
    "from sklearn.ensemble import RandomForestClassifier\n",
    "from sklearn.metrics import f1_score\n",
    "\n",
    "svc = SVC()\n",
    "svc.fit(x_train, y_train) \n",
    "Y_pred = svc.predict(X_test)\n",
    "svc_f1 = f1_score(y_test, Y_pred, average = 'macro')\n",
    "print(svc_f1)"
   ]
  }
 ],
 "metadata": {
  "kernelspec": {
   "display_name": "Python 3",
   "language": "python",
   "name": "python3"
  },
  "language_info": {
   "codemirror_mode": {
    "name": "ipython",
    "version": 3
   },
   "file_extension": ".py",
   "mimetype": "text/x-python",
   "name": "python",
   "nbconvert_exporter": "python",
   "pygments_lexer": "ipython3",
   "version": "3.7.3"
  }
 },
 "nbformat": 4,
 "nbformat_minor": 2
}

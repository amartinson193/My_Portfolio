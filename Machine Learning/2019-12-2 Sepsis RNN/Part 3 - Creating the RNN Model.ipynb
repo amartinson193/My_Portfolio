{
 "cells": [
  {
   "cell_type": "code",
   "execution_count": 17,
   "metadata": {},
   "outputs": [
    {
     "name": "stdout",
     "output_type": "stream",
     "text": [
      "41\n"
     ]
    }
   ],
   "source": [
    "import glob\n",
    "import os\n",
    "import numpy as np\n",
    "import pandas as pd\n",
    "\n",
    "columns = \"HR|O2Sat|Temp|SBP|MAP|DBP|Resp|EtCO2|BaseExcess|HCO3|FiO2|pH|PaCO2|SaO2|AST|BUN|Alkalinephos|Calcium|Chloride|Creatinine|Bilirubin_direct|Glucose|Lactate|Magnesium|Phosphate|Potassium|Bilirubin_total|TroponinI|Hct|Hgb|PTT|WBC|Fibrinogen|Platelets|Age|Gender|Unit1|Unit2|HospAdmTime|ICULOS|SepsisLabel\"\n",
    "columns = columns.split('|')\n",
    "print(len(columns))\n",
    "vital_columns = \"HR|O2Sat|Temp|SBP|MAP|DBP|Resp|EtCO2\".split(\"|\")\n",
    "\n",
    "# file_name = 'p019636.psv'\n",
    "# # file_name = 'p000001.psv'\n",
    "# current_dir = os.getcwd()\n",
    "# file_path = os.path.join(current_dir, './data/training/', file_name)\n",
    "# # print(file_path)\n",
    "# # with open(file_path, 'r') as infile:"
   ]
  },
  {
   "cell_type": "code",
   "execution_count": 95,
   "metadata": {},
   "outputs": [],
   "source": [
    "def process_input_file(input_file_path):\n",
    "    \"\"\"\n",
    "    Vitals data will be imputed by backfilling (then forward-filling to catch cases where vitals are missing on last rows). \n",
    "    All other data will receive 0s for empty values.\n",
    "    \"\"\"\n",
    "    # Load PSV file into a DataFrame\n",
    "    data = np.genfromtxt(input_file_path, delimiter='|', skip_footer = 1)\n",
    "    df = pd.DataFrame(data, columns=columns)\n",
    "    df.replace('nan',np.nan)\n",
    "\n",
    "    # Remove Administrative identifiers so our model doesn't learn spurious patterns from it\n",
    "    df = df.drop(columns=['Unit1', 'Unit2'])\n",
    "\n",
    "    # Use backfill to fill in vitals columns\n",
    "    vitals = df[vital_columns]\n",
    "    vitals = vitals.fillna(method='bfill').fillna(method='ffill').fillna(value=0)\n",
    "    \n",
    "    # Change Sepsis to integer\n",
    "    df['SepsisLabel'] = df['SepsisLabel'].astype(str)\n",
    "    df['SepsisLabel']= df['SepsisLabel'].replace({'0.0':0,'nan':0,'1.0':1})\n",
    "    df['SepsisLabel'] = df['SepsisLabel'].astype('uint8')\n",
    "    \n",
    "    # Fill all other columns with zeros for missing data\n",
    "    df[vital_columns] = vitals\n",
    "#     df = df.fillna(value=0) # removed this so we can normalize with nanmean\n",
    "\n",
    "#     narr = df.to_numpy()\n",
    "    return df"
   ]
  },
  {
   "cell_type": "code",
   "execution_count": 15,
   "metadata": {},
   "outputs": [],
   "source": [
    "def pad_slice_normalize_array(input_df, means, std_devs, output_height=24):\n",
    "    as_np = input_df.to_numpy()[-1 * output_height:, :]\n",
    "    how_much_pad = output_height - as_np.shape[0]\n",
    "    padded = np.pad(as_np, [(how_much_pad, 0),(0,0)], mode='constant', constant_values=np.nan)\n",
    "    targets = np.nan_to_num(padded[:, -1]).astype('bool')\n",
    "#     print(targets)\n",
    "#     if targets.any(): print(True)\n",
    "#     if padded[:, -1].any(): print(True)\n",
    "    padded -= means\n",
    "    padded /= std_devs\n",
    "    padded = np.nan_to_num(padded)\n",
    "#     padded[:, -1] = targets\n",
    "    return padded[:, :-1], np.array([targets.any()])"
   ]
  },
  {
   "cell_type": "code",
   "execution_count": 10,
   "metadata": {},
   "outputs": [
    {
     "name": "stdout",
     "output_type": "stream",
     "text": [
      "12336\n",
      "4000\n",
      "4000\n"
     ]
    }
   ],
   "source": [
    "import random\n",
    "file_list = glob.glob('./training data/training/*.psv')\n",
    "random.shuffle(file_list)\n",
    "\n",
    "training_data = file_list[:12336]\n",
    "validation_data = file_list[12336:16336]\n",
    "test_data = file_list[16336:20336]\n",
    "\n",
    "print(len(training_data))\n",
    "print(len(validation_data))\n",
    "print(len(test_data))"
   ]
  },
  {
   "cell_type": "code",
   "execution_count": 89,
   "metadata": {},
   "outputs": [],
   "source": [
    "training_data_frames = []\n",
    "\n",
    "for path in training_data:\n",
    "    df = process_input_file(path)\n",
    "    training_data_frames.append(df)\n",
    "\n",
    "full_training_data = [x.to_numpy() for x in training_data_frames]\n",
    "concat_array = np.concatenate(full_training_data)\n",
    "\n",
    "# print(concat_array.shape)\n",
    "\n",
    "means = np.nanmean(concat_array, axis=0)\n",
    "std_devs = np.nanstd(concat_array, axis=0)"
   ]
  },
  {
   "cell_type": "code",
   "execution_count": 90,
   "metadata": {
    "slideshow": {
     "slide_type": "slide"
    }
   },
   "outputs": [],
   "source": [
    "def make_X_y(paths, means, std_devs, oversample=False):\n",
    "    dataframes = [process_input_file(path) for path in paths]\n",
    "    if oversample is True:\n",
    "        sepsis_dataframes = []\n",
    "        for item in dataframes:\n",
    "            np_item = item.to_numpy()\n",
    "            targets = np_item[:, -1].astype('bool')\n",
    "            if targets.any():\n",
    "                sepsis_dataframes.append(item)\n",
    "        dataframes += sepsis_dataframes\n",
    "        random.shuffle(dataframes)\n",
    "            \n",
    "    data_as_tuples = [pad_slice_normalize_array(x, means, std_devs) for x in dataframes]\n",
    "    X = [x[0] for x in data_as_tuples]\n",
    "    y = [x[1] for x in data_as_tuples]\n",
    "    return np.stack(X), np.stack(y)"
   ]
  },
  {
   "cell_type": "code",
   "execution_count": 91,
   "metadata": {},
   "outputs": [
    {
     "name": "stderr",
     "output_type": "stream",
     "text": [
      "/opt/conda/lib/python3.7/site-packages/ipykernel_launcher.py:10: RuntimeWarning: invalid value encountered in true_divide\n",
      "  # Remove the CWD from sys.path while we load stuff.\n"
     ]
    },
    {
     "name": "stdout",
     "output_type": "stream",
     "text": [
      "(13452, 24, 38)\n",
      "(13452, 1)\n"
     ]
    }
   ],
   "source": [
    "X_train, y_train = make_X_y(training_data, means, std_devs, oversample=True)\n",
    "\n",
    "print(X_train.shape)\n",
    "print(y_train.shape)"
   ]
  },
  {
   "cell_type": "code",
   "execution_count": null,
   "metadata": {
    "scrolled": true
   },
   "outputs": [],
   "source": [
    "# X_val, y_val = make_X_y(validation_data, means, std_devs)\n",
    "\n",
    "print(X_val.shape)\n",
    "print(y_val.shape)"
   ]
  },
  {
   "cell_type": "code",
   "execution_count": 94,
   "metadata": {},
   "outputs": [
    {
     "name": "stdout",
     "output_type": "stream",
     "text": [
      "(4000, 24, 38)\n",
      "(4000, 1)\n"
     ]
    }
   ],
   "source": [
    "X_test, y_test = make_X_y(test_data, means, std_devs)\n",
    "\n",
    "print(X_test.shape)\n",
    "print(y_test.shape)"
   ]
  },
  {
   "cell_type": "code",
   "execution_count": 98,
   "metadata": {},
   "outputs": [
    {
     "name": "stderr",
     "output_type": "stream",
     "text": [
      "Using TensorFlow backend.\n"
     ]
    }
   ],
   "source": [
    "# Setup for deep learning\n",
    "import os\n",
    "os.environ[\"CUDA_VISIBLE_DEVICES\"] = \"0\"\n",
    "\n",
    "import keras\n",
    "from keras import backend as K\n",
    "\n",
    "cfg = K.tf.ConfigProto()\n",
    "cfg.gpu_options.allow_growth = True\n",
    "cfg.gpu_options.per_process_gpu_memory_fraction=0.333\n",
    "K.set_session(K.tf.Session(config=cfg))"
   ]
  },
  {
   "cell_type": "code",
   "execution_count": 99,
   "metadata": {},
   "outputs": [
    {
     "name": "stdout",
     "output_type": "stream",
     "text": [
      "Ready\n"
     ]
    }
   ],
   "source": [
    "print(\"Ready\")"
   ]
  },
  {
   "cell_type": "code",
   "execution_count": 104,
   "metadata": {},
   "outputs": [
    {
     "name": "stdout",
     "output_type": "stream",
     "text": [
      "_________________________________________________________________\n",
      "Layer (type)                 Output Shape              Param #   \n",
      "=================================================================\n",
      "lstm_7 (LSTM)                (None, 24, 256)           302080    \n",
      "_________________________________________________________________\n",
      "lstm_8 (LSTM)                (None, 256)               525312    \n",
      "_________________________________________________________________\n",
      "dense_16 (Dense)             (None, 256)               65792     \n",
      "_________________________________________________________________\n",
      "dropout_10 (Dropout)         (None, 256)               0         \n",
      "_________________________________________________________________\n",
      "dense_17 (Dense)             (None, 128)               32896     \n",
      "_________________________________________________________________\n",
      "dense_18 (Dense)             (None, 64)                8256      \n",
      "_________________________________________________________________\n",
      "dropout_11 (Dropout)         (None, 64)                0         \n",
      "_________________________________________________________________\n",
      "dense_19 (Dense)             (None, 32)                2080      \n",
      "_________________________________________________________________\n",
      "dropout_12 (Dropout)         (None, 32)                0         \n",
      "_________________________________________________________________\n",
      "dense_20 (Dense)             (None, 1)                 33        \n",
      "=================================================================\n",
      "Total params: 936,449\n",
      "Trainable params: 936,449\n",
      "Non-trainable params: 0\n",
      "_________________________________________________________________\n"
     ]
    }
   ],
   "source": [
    "from keras import models\n",
    "from keras.layers import LSTM, Dense, Dropout\n",
    "\n",
    "model = models.Sequential()\n",
    "model.add(LSTM(256, return_sequences=True, dropout=0.1, recurrent_dropout=0.1, input_shape=(24, 38)))\n",
    "model.add(LSTM(256, return_sequences=False, dropout=0.1, recurrent_dropout=0.1))\n",
    "model.add(Dense(256, activation='relu'))\n",
    "model.add(Dropout(0.2))\n",
    "model.add(Dense(128, activation='relu'))\n",
    "model.add(Dense(64, activation='relu'))\n",
    "model.add(Dropout(0.2))\n",
    "model.add(Dense(32, activation='relu'))\n",
    "model.add(Dropout(0.2))\n",
    "model.add(Dense(1, activation='sigmoid'))\n",
    "model.compile(optimizer='adam', loss='binary_crossentropy', metrics=['accuracy'])\n",
    "model.summary()"
   ]
  },
  {
   "cell_type": "code",
   "execution_count": 105,
   "metadata": {},
   "outputs": [
    {
     "name": "stdout",
     "output_type": "stream",
     "text": [
      "Train on 13452 samples, validate on 4000 samples\n",
      "Epoch 1/15\n",
      "13452/13452 [==============================] - 861s 64ms/step - loss: 0.3952 - acc: 0.8538 - val_loss: 0.2185 - val_acc: 0.9373\n",
      "Epoch 2/15\n",
      "13452/13452 [==============================] - 832s 62ms/step - loss: 0.3146 - acc: 0.8909 - val_loss: 0.1951 - val_acc: 0.9445\n",
      "Epoch 3/15\n",
      "13452/13452 [==============================] - 836s 62ms/step - loss: 0.2806 - acc: 0.9049 - val_loss: 0.1882 - val_acc: 0.9457\n",
      "Epoch 4/15\n",
      "13452/13452 [==============================] - 841s 62ms/step - loss: 0.2652 - acc: 0.9084 - val_loss: 0.1629 - val_acc: 0.9533\n",
      "Epoch 5/15\n",
      "13452/13452 [==============================] - 850s 63ms/step - loss: 0.2546 - acc: 0.9127 - val_loss: 0.1649 - val_acc: 0.9513\n",
      "Epoch 6/15\n",
      "13452/13452 [==============================] - 833s 62ms/step - loss: 0.2443 - acc: 0.9145 - val_loss: 0.1881 - val_acc: 0.9532\n",
      "Epoch 7/15\n",
      "13452/13452 [==============================] - 835s 62ms/step - loss: 0.2309 - acc: 0.9182 - val_loss: 0.1597 - val_acc: 0.9510\n",
      "Epoch 8/15\n",
      "13452/13452 [==============================] - 847s 63ms/step - loss: 0.2198 - acc: 0.9236 - val_loss: 0.1676 - val_acc: 0.9490\n",
      "Epoch 9/15\n",
      "13452/13452 [==============================] - 840s 62ms/step - loss: 0.2168 - acc: 0.9213 - val_loss: 0.1583 - val_acc: 0.9515\n",
      "Epoch 10/15\n",
      "13452/13452 [==============================] - 839s 62ms/step - loss: 0.2055 - acc: 0.9270 - val_loss: 0.1581 - val_acc: 0.9505\n",
      "Epoch 11/15\n",
      "13452/13452 [==============================] - 845s 63ms/step - loss: 0.1921 - acc: 0.9301 - val_loss: 0.1699 - val_acc: 0.9413\n",
      "Epoch 12/15\n",
      "13452/13452 [==============================] - 858s 64ms/step - loss: 0.1872 - acc: 0.9311 - val_loss: 0.1599 - val_acc: 0.9512\n",
      "Epoch 13/15\n",
      "13452/13452 [==============================] - 834s 62ms/step - loss: 0.1764 - acc: 0.9341 - val_loss: 0.1566 - val_acc: 0.9518\n",
      "Epoch 14/15\n",
      "13452/13452 [==============================] - 837s 62ms/step - loss: 0.1701 - acc: 0.9360 - val_loss: 0.1749 - val_acc: 0.9428\n",
      "Epoch 15/15\n",
      "13452/13452 [==============================] - 833s 62ms/step - loss: 0.1699 - acc: 0.9383 - val_loss: 0.1585 - val_acc: 0.9495\n"
     ]
    }
   ],
   "source": [
    "trained_model = model.fit(X_train, \n",
    "                          y_train, \n",
    "                          batch_size=256,\n",
    "                          epochs=15,\n",
    "                          verbose=1,\n",
    "                          validation_data=(X_val, y_val))"
   ]
  },
  {
   "cell_type": "code",
   "execution_count": 106,
   "metadata": {},
   "outputs": [
    {
     "name": "stdout",
     "output_type": "stream",
     "text": [
      "4000/4000 [==============================] - 145s 36ms/step\n",
      "test loss: 0.16\n",
      "test accuracy: 0.95\n",
      "\n"
     ]
    }
   ],
   "source": [
    "# Plot the training curves and evaluate accuracy\n",
    "\n",
    "hdf = pd.DataFrame(data=trained_model.history)\n",
    "# print(hdf.head)\n",
    "# for col in ['loss', 'acc', 'precision', 'recall', 'f1score']:\n",
    "for col in ['loss', 'acc']:\n",
    "    ax = hdf[[col, 'val_'+col]].plot()\n",
    "    _ = ax.set_xlabel('epoch')\n",
    "    _ = ax.set_title(col)\n",
    "    \n",
    "print(\"\"\"test loss: %.2f\n",
    "test accuracy: %.2f\n",
    "\"\"\" % tuple(model.evaluate(X_val, y_val)))"
   ]
  },
  {
   "cell_type": "code",
   "execution_count": 109,
   "metadata": {},
   "outputs": [
    {
     "data": {
      "image/png": "[encoded data removed]",
      "text/plain": [
       "<Figure size 432x288 with 1 Axes>"
      ]
     },
     "metadata": {
      "needs_background": "light"
     },
     "output_type": "display_data"
    }
   ],
   "source": [
    "import matplotlib.pyplot as plt\n",
    "history_dict=hdf\n",
    "loss_values=history_dict['loss']\n",
    "val_loss_values=history_dict['val_loss']\n",
    "epochs=range(1,len(loss_values)+1)\n",
    "plt.plot(epochs,loss_values,'bo',label='Training loss')\n",
    "plt.plot(epochs,val_loss_values,'b',label='Test loss')\n",
    "plt.title(\"Training and Test Loss\")\n",
    "plt.xlabel('Epochs')\n",
    "plt.ylabel('Loss')\n",
    "plt.legend()\n",
    "plt.show()"
   ]
  },
  {
   "cell_type": "code",
   "execution_count": 111,
   "metadata": {},
   "outputs": [
    {
     "data": {
      "image/png": "[encoded data removed]",
      "text/plain": [
       "<Figure size 432x288 with 1 Axes>"
      ]
     },
     "metadata": {
      "needs_background": "light"
     },
     "output_type": "display_data"
    }
   ],
   "source": [
    "acc_values=history_dict['acc']\n",
    "val_acc_values=history_dict['val_acc']\n",
    "plt.plot(epochs,acc_values,'bo',label='Training acc')\n",
    "plt.plot(epochs,val_acc_values,'b',label='Validation acc')\n",
    "plt.title(\"Training and Test Accuracy\")\n",
    "plt.xlabel('Epochs')\n",
    "plt.ylabel('accutacy')\n",
    "plt.legend()\n",
    "plt.show()"
   ]
  },
  {
   "cell_type": "code",
   "execution_count": 113,
   "metadata": {},
   "outputs": [],
   "source": [
    "y_val_prob = model.predict(X_val)\n",
    "# y_val_pred[:50]"
   ]
  },
  {
   "cell_type": "code",
   "execution_count": 114,
   "metadata": {},
   "outputs": [],
   "source": [
    "# y_val_pred = y_val_pred.astype('bool')\n",
    "\n",
    "y_val_pred = [True if x>0.5 else False for x in y_val_prob]"
   ]
  },
  {
   "cell_type": "code",
   "execution_count": 115,
   "metadata": {},
   "outputs": [
    {
     "name": "stdout",
     "output_type": "stream",
     "text": [
      "[[3584   87]\n",
      " [ 115  214]]\n",
      "3584 87 115 214\n"
     ]
    }
   ],
   "source": [
    "from sklearn.metrics import confusion_matrix\n",
    "conf_mtrx = confusion_matrix(y_val, y_val_pred)\n",
    "print(conf_mtrx)\n",
    "tn, fp, fn, tp = conf_mtrx.ravel()\n",
    "print(tn, fp, fn, tp)\n",
    "# First model results:   3640 24 180 156, this model had dropout\n",
    "# Second model results:  3640 24 165 171, this model removed the dropout to deliberately overfit\n",
    "# Third model results:   3645 19 177 159, this model added a second LSTM and a third Dense layer\n",
    "# Fourth model results:  3584 34 172 210, this model switched from 12 hours of data per patient to 24 hours of data per patient\n",
    "# Fifth model results:   3584 34 162 220, this model increases nodes in the first Dense layer from 32 to 64\n",
    "# Sixth model results:   3595 23 173 209, this model doubles the nodes in every layer (dramatically increasing # of parameters)\n",
    "# Seventh model results: 3603 15 185 197, add more dropout layers (for regularization) and increase to 15 epochs\n",
    "# Eighth model results:  3586 57 140 217, add oversampling (double the number of positive classes)\n",
    "# Ninth model results:   3603 40 165 192, add more nodes to each layer, but cut down to 5 epochs\n",
    "# Tenth model results:   3593 50 154 203, cut second LSTM layer to 128 nodes, increase to 15 epochs\n",
    "# 11th model results:    3568 75 150 207, cut out second LSTM layer, removed dropout layers\n",
    "# 12th model results: , add 2nd LSTM Layer back"
   ]
  },
  {
   "cell_type": "code",
   "execution_count": 116,
   "metadata": {},
   "outputs": [
    {
     "name": "stdout",
     "output_type": "stream",
     "text": [
      "0.9495\n"
     ]
    }
   ],
   "source": [
    "from sklearn.metrics import accuracy_score\n",
    "\n",
    "print(accuracy_score(y_val, y_val_pred))\n",
    "\n"
   ]
  }
 ],
 "metadata": {
  "kernelspec": {
   "display_name": "Python 3",
   "language": "python",
   "name": "python3"
  },
  "language_info": {
   "codemirror_mode": {
    "name": "ipython",
    "version": 3
   },
   "file_extension": ".py",
   "mimetype": "text/x-python",
   "name": "python",
   "nbconvert_exporter": "python",
   "pygments_lexer": "ipython3",
   "version": "3.7.3"
  }
 },
 "nbformat": 4,
 "nbformat_minor": 2
}

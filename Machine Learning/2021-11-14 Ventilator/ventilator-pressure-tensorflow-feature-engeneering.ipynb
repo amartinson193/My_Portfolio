{
 "cells": [
  {
   "cell_type": "code",
   "execution_count": 1,
   "id": "bf31c2a1",
   "metadata": {
    "_cell_guid": "b1076dfc-b9ad-4769-8c92-a6c4dae69d19",
    "_uuid": "8f2839f25d086af736a60e9eeb907d3b93b6e0e5",
    "execution": {
     "iopub.execute_input": "2021-11-14T06:40:39.716907Z",
     "iopub.status.busy": "2021-11-14T06:40:39.715410Z",
     "iopub.status.idle": "2021-11-14T06:40:44.848659Z",
     "shell.execute_reply": "2021-11-14T06:40:44.847803Z",
     "shell.execute_reply.started": "2021-11-14T06:16:19.864096Z"
    },
    "papermill": {
     "duration": 5.169875,
     "end_time": "2021-11-14T06:40:44.848844",
     "exception": false,
     "start_time": "2021-11-14T06:40:39.678969",
     "status": "completed"
    },
    "tags": []
   },
   "outputs": [
    {
     "name": "stderr",
     "output_type": "stream",
     "text": [
      "2021-11-14 06:40:40.359845: I tensorflow/stream_executor/platform/default/dso_loader.cc:49] Successfully opened dynamic library libcudart.so.11.0\n"
     ]
    },
    {
     "name": "stdout",
     "output_type": "stream",
     "text": [
      "/kaggle/input/ventilator-pressure-prediction/sample_submission.csv\n",
      "/kaggle/input/ventilator-pressure-prediction/train.csv\n",
      "/kaggle/input/ventilator-pressure-prediction/test.csv\n"
     ]
    }
   ],
   "source": [
    "# This Python 3 environment comes with many helpful analytics libraries installed\n",
    "# It is defined by the kaggle/python Docker image: https://github.com/kaggle/docker-python\n",
    "# For example, here's several helpful packages to load\n",
    "\n",
    "import numpy as np # linear algebra\n",
    "import pandas as pd # data processing, CSV file I/O (e.g. pd.read_csv)\n",
    "# import psycopg2\n",
    "import glob\n",
    "import imageio\n",
    "import matplotlib.pyplot as plt\n",
    "import os\n",
    "import PIL\n",
    "from tensorflow.keras import callbacks\n",
    "from tensorflow import keras\n",
    "from tensorflow.keras import layers\n",
    "import time\n",
    "from IPython import display\n",
    "import tensorflow as tf\n",
    "import seaborn as sns\n",
    "from PIL import Image\n",
    "import io\n",
    "# import pickle5 as pickle\n",
    "from sklearn.metrics import mean_absolute_error\n",
    "from sklearn.model_selection import KFold\n",
    "from sklearn.preprocessing import MinMaxScaler\n",
    "from sklearn.preprocessing import RobustScaler\n",
    "\n",
    "# Input data files are available in the read-only \"../input/\" directory\n",
    "# For example, running this (by clicking run or pressing Shift+Enter) will list all files under the input directory\n",
    "\n",
    "import os\n",
    "for dirname, _, filenames in os.walk('/kaggle/input'):\n",
    "    for filename in filenames:\n",
    "        print(os.path.join(dirname, filename))\n",
    "\n",
    "# You can write up to 20GB to the current directory (/kaggle/working/) that gets preserved as output when you create a version using \"Save & Run All\" \n",
    "# You can also write temporary files to /kaggle/temp/, but they won't be saved outside of the current session"
   ]
  },
  {
   "cell_type": "code",
   "execution_count": 2,
   "id": "96409ab6",
   "metadata": {
    "execution": {
     "iopub.execute_input": "2021-11-14T06:40:44.919508Z",
     "iopub.status.busy": "2021-11-14T06:40:44.918970Z",
     "iopub.status.idle": "2021-11-14T06:40:59.761812Z",
     "shell.execute_reply": "2021-11-14T06:40:59.761213Z",
     "shell.execute_reply.started": "2021-11-14T06:33:12.136819Z"
    },
    "papermill": {
     "duration": 14.880001,
     "end_time": "2021-11-14T06:40:59.761967",
     "exception": false,
     "start_time": "2021-11-14T06:40:44.881966",
     "status": "completed"
    },
    "tags": []
   },
   "outputs": [
    {
     "name": "stderr",
     "output_type": "stream",
     "text": [
      "/opt/conda/lib/python3.7/site-packages/numpy/lib/arraysetops.py:580: FutureWarning: elementwise comparison failed; returning scalar instead, but in the future will perform elementwise comparison\n",
      "  mask |= (ar1 == a)\n"
     ]
    }
   ],
   "source": [
    "df_train = pd.read_csv('../input/ventilator-pressure-prediction/train.csv', index_col = 'id')\n",
    "X_test = pd.read_csv('../input/ventilator-pressure-prediction/test.csv', index_col = 'id')\n",
    "submission = pd.read_csv('../input/ventilator-pressure-prediction/sample_submission.csv')\n",
    "\n",
    "X_train = df_train.copy().drop('pressure', axis = 1)\n",
    "Y_train = df_train['pressure'].copy()"
   ]
  },
  {
   "cell_type": "code",
   "execution_count": 3,
   "id": "2bbd12c5",
   "metadata": {
    "execution": {
     "iopub.execute_input": "2021-11-14T06:40:59.833113Z",
     "iopub.status.busy": "2021-11-14T06:40:59.832297Z",
     "iopub.status.idle": "2021-11-14T06:40:59.851146Z",
     "shell.execute_reply": "2021-11-14T06:40:59.851581Z",
     "shell.execute_reply.started": "2021-11-14T06:33:21.252024Z"
    },
    "papermill": {
     "duration": 0.057128,
     "end_time": "2021-11-14T06:40:59.851713",
     "exception": false,
     "start_time": "2021-11-14T06:40:59.794585",
     "status": "completed"
    },
    "tags": []
   },
   "outputs": [
    {
     "data": {
      "text/html": [
       "<div>\n",
       "<style scoped>\n",
       "    .dataframe tbody tr th:only-of-type {\n",
       "        vertical-align: middle;\n",
       "    }\n",
       "\n",
       "    .dataframe tbody tr th {\n",
       "        vertical-align: top;\n",
       "    }\n",
       "\n",
       "    .dataframe thead th {\n",
       "        text-align: right;\n",
       "    }\n",
       "</style>\n",
       "<table border=\"1\" class=\"dataframe\">\n",
       "  <thead>\n",
       "    <tr style=\"text-align: right;\">\n",
       "      <th></th>\n",
       "      <th>breath_id</th>\n",
       "      <th>R</th>\n",
       "      <th>C</th>\n",
       "      <th>time_step</th>\n",
       "      <th>u_in</th>\n",
       "      <th>u_out</th>\n",
       "    </tr>\n",
       "    <tr>\n",
       "      <th>id</th>\n",
       "      <th></th>\n",
       "      <th></th>\n",
       "      <th></th>\n",
       "      <th></th>\n",
       "      <th></th>\n",
       "      <th></th>\n",
       "    </tr>\n",
       "  </thead>\n",
       "  <tbody>\n",
       "    <tr>\n",
       "      <th>1</th>\n",
       "      <td>0</td>\n",
       "      <td>5</td>\n",
       "      <td>20</td>\n",
       "      <td>0.000000</td>\n",
       "      <td>0.000000</td>\n",
       "      <td>0</td>\n",
       "    </tr>\n",
       "    <tr>\n",
       "      <th>2</th>\n",
       "      <td>0</td>\n",
       "      <td>5</td>\n",
       "      <td>20</td>\n",
       "      <td>0.031904</td>\n",
       "      <td>7.515046</td>\n",
       "      <td>0</td>\n",
       "    </tr>\n",
       "    <tr>\n",
       "      <th>3</th>\n",
       "      <td>0</td>\n",
       "      <td>5</td>\n",
       "      <td>20</td>\n",
       "      <td>0.063827</td>\n",
       "      <td>14.651675</td>\n",
       "      <td>0</td>\n",
       "    </tr>\n",
       "    <tr>\n",
       "      <th>4</th>\n",
       "      <td>0</td>\n",
       "      <td>5</td>\n",
       "      <td>20</td>\n",
       "      <td>0.095751</td>\n",
       "      <td>21.230610</td>\n",
       "      <td>0</td>\n",
       "    </tr>\n",
       "    <tr>\n",
       "      <th>5</th>\n",
       "      <td>0</td>\n",
       "      <td>5</td>\n",
       "      <td>20</td>\n",
       "      <td>0.127644</td>\n",
       "      <td>26.320956</td>\n",
       "      <td>0</td>\n",
       "    </tr>\n",
       "    <tr>\n",
       "      <th>...</th>\n",
       "      <td>...</td>\n",
       "      <td>...</td>\n",
       "      <td>...</td>\n",
       "      <td>...</td>\n",
       "      <td>...</td>\n",
       "      <td>...</td>\n",
       "    </tr>\n",
       "    <tr>\n",
       "      <th>4023996</th>\n",
       "      <td>125748</td>\n",
       "      <td>20</td>\n",
       "      <td>10</td>\n",
       "      <td>2.530117</td>\n",
       "      <td>4.971245</td>\n",
       "      <td>1</td>\n",
       "    </tr>\n",
       "    <tr>\n",
       "      <th>4023997</th>\n",
       "      <td>125748</td>\n",
       "      <td>20</td>\n",
       "      <td>10</td>\n",
       "      <td>2.563853</td>\n",
       "      <td>4.975709</td>\n",
       "      <td>1</td>\n",
       "    </tr>\n",
       "    <tr>\n",
       "      <th>4023998</th>\n",
       "      <td>125748</td>\n",
       "      <td>20</td>\n",
       "      <td>10</td>\n",
       "      <td>2.597475</td>\n",
       "      <td>4.979468</td>\n",
       "      <td>1</td>\n",
       "    </tr>\n",
       "    <tr>\n",
       "      <th>4023999</th>\n",
       "      <td>125748</td>\n",
       "      <td>20</td>\n",
       "      <td>10</td>\n",
       "      <td>2.631134</td>\n",
       "      <td>4.982648</td>\n",
       "      <td>1</td>\n",
       "    </tr>\n",
       "    <tr>\n",
       "      <th>4024000</th>\n",
       "      <td>125748</td>\n",
       "      <td>20</td>\n",
       "      <td>10</td>\n",
       "      <td>2.665301</td>\n",
       "      <td>4.985373</td>\n",
       "      <td>1</td>\n",
       "    </tr>\n",
       "  </tbody>\n",
       "</table>\n",
       "<p>4024000 rows × 6 columns</p>\n",
       "</div>"
      ],
      "text/plain": [
       "         breath_id   R   C  time_step       u_in  u_out\n",
       "id                                                     \n",
       "1                0   5  20   0.000000   0.000000      0\n",
       "2                0   5  20   0.031904   7.515046      0\n",
       "3                0   5  20   0.063827  14.651675      0\n",
       "4                0   5  20   0.095751  21.230610      0\n",
       "5                0   5  20   0.127644  26.320956      0\n",
       "...            ...  ..  ..        ...        ...    ...\n",
       "4023996     125748  20  10   2.530117   4.971245      1\n",
       "4023997     125748  20  10   2.563853   4.975709      1\n",
       "4023998     125748  20  10   2.597475   4.979468      1\n",
       "4023999     125748  20  10   2.631134   4.982648      1\n",
       "4024000     125748  20  10   2.665301   4.985373      1\n",
       "\n",
       "[4024000 rows x 6 columns]"
      ]
     },
     "execution_count": 3,
     "metadata": {},
     "output_type": "execute_result"
    }
   ],
   "source": [
    "X_test"
   ]
  },
  {
   "cell_type": "markdown",
   "id": "d5768c91",
   "metadata": {
    "papermill": {
     "duration": 0.032002,
     "end_time": "2021-11-14T06:40:59.917702",
     "exception": false,
     "start_time": "2021-11-14T06:40:59.885700",
     "status": "completed"
    },
    "tags": []
   },
   "source": [
    "# My Test Example"
   ]
  },
  {
   "cell_type": "code",
   "execution_count": 4,
   "id": "124b2a42",
   "metadata": {
    "execution": {
     "iopub.execute_input": "2021-11-14T06:40:59.985727Z",
     "iopub.status.busy": "2021-11-14T06:40:59.985012Z",
     "iopub.status.idle": "2021-11-14T06:40:59.987727Z",
     "shell.execute_reply": "2021-11-14T06:40:59.987261Z",
     "shell.execute_reply.started": "2021-11-14T06:16:39.023229Z"
    },
    "papermill": {
     "duration": 0.038502,
     "end_time": "2021-11-14T06:40:59.987855",
     "exception": false,
     "start_time": "2021-11-14T06:40:59.949353",
     "status": "completed"
    },
    "tags": []
   },
   "outputs": [],
   "source": [
    "# # Define X and Y\n",
    "X_train = X_train.iloc[:80000]\n",
    "Y_train = Y_train.iloc[:80000]"
   ]
  },
  {
   "cell_type": "code",
   "execution_count": 5,
   "id": "2a0b1211",
   "metadata": {
    "execution": {
     "iopub.execute_input": "2021-11-14T06:41:00.056965Z",
     "iopub.status.busy": "2021-11-14T06:41:00.056280Z",
     "iopub.status.idle": "2021-11-14T06:41:00.058455Z",
     "shell.execute_reply": "2021-11-14T06:41:00.058820Z",
     "shell.execute_reply.started": "2021-11-14T05:47:16.459198Z"
    },
    "papermill": {
     "duration": 0.0375,
     "end_time": "2021-11-14T06:41:00.058972",
     "exception": false,
     "start_time": "2021-11-14T06:41:00.021472",
     "status": "completed"
    },
    "tags": []
   },
   "outputs": [],
   "source": [
    "# Drop the u_out = 1 rows since the model will not be graded on those rows, but leave them in for X_test since we still want the full number of predictions\n",
    "# X_train = X_train[X_train['u_out'] == 0]\n"
   ]
  },
  {
   "cell_type": "code",
   "execution_count": 6,
   "id": "5d6b6a54",
   "metadata": {
    "execution": {
     "iopub.execute_input": "2021-11-14T06:41:00.180220Z",
     "iopub.status.busy": "2021-11-14T06:41:00.179510Z",
     "iopub.status.idle": "2021-11-14T06:41:00.183446Z",
     "shell.execute_reply": "2021-11-14T06:41:00.182955Z",
     "shell.execute_reply.started": "2021-11-14T06:33:42.122334Z"
    },
    "papermill": {
     "duration": 0.093142,
     "end_time": "2021-11-14T06:41:00.183566",
     "exception": false,
     "start_time": "2021-11-14T06:41:00.090424",
     "status": "completed"
    },
    "tags": []
   },
   "outputs": [],
   "source": [
    "# X_train.drop(axis=1, columns=['breath_id'], inplace=True)\n",
    "X_test.drop(axis=1, columns=['breath_id'], inplace=True)"
   ]
  },
  {
   "cell_type": "code",
   "execution_count": 7,
   "id": "7e8012d4",
   "metadata": {
    "execution": {
     "iopub.execute_input": "2021-11-14T06:41:00.262723Z",
     "iopub.status.busy": "2021-11-14T06:41:00.262146Z",
     "iopub.status.idle": "2021-11-14T06:41:00.265484Z",
     "shell.execute_reply": "2021-11-14T06:41:00.265907Z",
     "shell.execute_reply.started": "2021-11-14T06:16:39.059112Z"
    },
    "papermill": {
     "duration": 0.05035,
     "end_time": "2021-11-14T06:41:00.266082",
     "exception": false,
     "start_time": "2021-11-14T06:41:00.215732",
     "status": "completed"
    },
    "tags": []
   },
   "outputs": [
    {
     "data": {
      "text/html": [
       "<div>\n",
       "<style scoped>\n",
       "    .dataframe tbody tr th:only-of-type {\n",
       "        vertical-align: middle;\n",
       "    }\n",
       "\n",
       "    .dataframe tbody tr th {\n",
       "        vertical-align: top;\n",
       "    }\n",
       "\n",
       "    .dataframe thead th {\n",
       "        text-align: right;\n",
       "    }\n",
       "</style>\n",
       "<table border=\"1\" class=\"dataframe\">\n",
       "  <thead>\n",
       "    <tr style=\"text-align: right;\">\n",
       "      <th></th>\n",
       "      <th>breath_id</th>\n",
       "      <th>R</th>\n",
       "      <th>C</th>\n",
       "      <th>time_step</th>\n",
       "      <th>u_in</th>\n",
       "      <th>u_out</th>\n",
       "    </tr>\n",
       "    <tr>\n",
       "      <th>id</th>\n",
       "      <th></th>\n",
       "      <th></th>\n",
       "      <th></th>\n",
       "      <th></th>\n",
       "      <th></th>\n",
       "      <th></th>\n",
       "    </tr>\n",
       "  </thead>\n",
       "  <tbody>\n",
       "    <tr>\n",
       "      <th>1</th>\n",
       "      <td>1</td>\n",
       "      <td>20</td>\n",
       "      <td>50</td>\n",
       "      <td>0.000000</td>\n",
       "      <td>0.083334</td>\n",
       "      <td>0</td>\n",
       "    </tr>\n",
       "    <tr>\n",
       "      <th>2</th>\n",
       "      <td>1</td>\n",
       "      <td>20</td>\n",
       "      <td>50</td>\n",
       "      <td>0.033652</td>\n",
       "      <td>18.383041</td>\n",
       "      <td>0</td>\n",
       "    </tr>\n",
       "    <tr>\n",
       "      <th>3</th>\n",
       "      <td>1</td>\n",
       "      <td>20</td>\n",
       "      <td>50</td>\n",
       "      <td>0.067514</td>\n",
       "      <td>22.509278</td>\n",
       "      <td>0</td>\n",
       "    </tr>\n",
       "    <tr>\n",
       "      <th>4</th>\n",
       "      <td>1</td>\n",
       "      <td>20</td>\n",
       "      <td>50</td>\n",
       "      <td>0.101542</td>\n",
       "      <td>22.808822</td>\n",
       "      <td>0</td>\n",
       "    </tr>\n",
       "    <tr>\n",
       "      <th>5</th>\n",
       "      <td>1</td>\n",
       "      <td>20</td>\n",
       "      <td>50</td>\n",
       "      <td>0.135756</td>\n",
       "      <td>25.355850</td>\n",
       "      <td>0</td>\n",
       "    </tr>\n",
       "    <tr>\n",
       "      <th>...</th>\n",
       "      <td>...</td>\n",
       "      <td>...</td>\n",
       "      <td>...</td>\n",
       "      <td>...</td>\n",
       "      <td>...</td>\n",
       "      <td>...</td>\n",
       "    </tr>\n",
       "    <tr>\n",
       "      <th>79996</th>\n",
       "      <td>1612</td>\n",
       "      <td>50</td>\n",
       "      <td>20</td>\n",
       "      <td>2.395774</td>\n",
       "      <td>4.944552</td>\n",
       "      <td>1</td>\n",
       "    </tr>\n",
       "    <tr>\n",
       "      <th>79997</th>\n",
       "      <td>1612</td>\n",
       "      <td>50</td>\n",
       "      <td>20</td>\n",
       "      <td>2.427758</td>\n",
       "      <td>4.952747</td>\n",
       "      <td>1</td>\n",
       "    </tr>\n",
       "    <tr>\n",
       "      <th>79998</th>\n",
       "      <td>1612</td>\n",
       "      <td>50</td>\n",
       "      <td>20</td>\n",
       "      <td>2.459710</td>\n",
       "      <td>4.959724</td>\n",
       "      <td>1</td>\n",
       "    </tr>\n",
       "    <tr>\n",
       "      <th>79999</th>\n",
       "      <td>1612</td>\n",
       "      <td>50</td>\n",
       "      <td>20</td>\n",
       "      <td>2.491713</td>\n",
       "      <td>4.965679</td>\n",
       "      <td>1</td>\n",
       "    </tr>\n",
       "    <tr>\n",
       "      <th>80000</th>\n",
       "      <td>1612</td>\n",
       "      <td>50</td>\n",
       "      <td>20</td>\n",
       "      <td>2.523651</td>\n",
       "      <td>4.970745</td>\n",
       "      <td>1</td>\n",
       "    </tr>\n",
       "  </tbody>\n",
       "</table>\n",
       "<p>80000 rows × 6 columns</p>\n",
       "</div>"
      ],
      "text/plain": [
       "       breath_id   R   C  time_step       u_in  u_out\n",
       "id                                                   \n",
       "1              1  20  50   0.000000   0.083334      0\n",
       "2              1  20  50   0.033652  18.383041      0\n",
       "3              1  20  50   0.067514  22.509278      0\n",
       "4              1  20  50   0.101542  22.808822      0\n",
       "5              1  20  50   0.135756  25.355850      0\n",
       "...          ...  ..  ..        ...        ...    ...\n",
       "79996       1612  50  20   2.395774   4.944552      1\n",
       "79997       1612  50  20   2.427758   4.952747      1\n",
       "79998       1612  50  20   2.459710   4.959724      1\n",
       "79999       1612  50  20   2.491713   4.965679      1\n",
       "80000       1612  50  20   2.523651   4.970745      1\n",
       "\n",
       "[80000 rows x 6 columns]"
      ]
     },
     "execution_count": 7,
     "metadata": {},
     "output_type": "execute_result"
    }
   ],
   "source": [
    "X_train"
   ]
  },
  {
   "cell_type": "markdown",
   "id": "ff78c20a",
   "metadata": {
    "papermill": {
     "duration": 0.031865,
     "end_time": "2021-11-14T06:41:00.331428",
     "exception": false,
     "start_time": "2021-11-14T06:41:00.299563",
     "status": "completed"
    },
    "tags": []
   },
   "source": [
    "# Feature Engineering"
   ]
  },
  {
   "cell_type": "code",
   "execution_count": 8,
   "id": "0613d306",
   "metadata": {
    "execution": {
     "iopub.execute_input": "2021-11-14T06:41:00.427747Z",
     "iopub.status.busy": "2021-11-14T06:41:00.402913Z",
     "iopub.status.idle": "2021-11-14T06:41:00.823723Z",
     "shell.execute_reply": "2021-11-14T06:41:00.823244Z",
     "shell.execute_reply.started": "2021-11-14T05:43:34.692124Z"
    },
    "papermill": {
     "duration": 0.460595,
     "end_time": "2021-11-14T06:41:00.824011",
     "exception": true,
     "start_time": "2021-11-14T06:41:00.363416",
     "status": "failed"
    },
    "tags": []
   },
   "outputs": [
    {
     "ename": "KeyError",
     "evalue": "'breath_id'",
     "output_type": "error",
     "traceback": [
      "\u001b[0;31m---------------------------------------------------------------------------\u001b[0m",
      "\u001b[0;31mKeyError\u001b[0m                                  Traceback (most recent call last)",
      "\u001b[0;32m/opt/conda/lib/python3.7/site-packages/pandas/core/indexes/base.py\u001b[0m in \u001b[0;36mget_loc\u001b[0;34m(self, key, method, tolerance)\u001b[0m\n\u001b[1;32m   3080\u001b[0m             \u001b[0;32mtry\u001b[0m\u001b[0;34m:\u001b[0m\u001b[0;34m\u001b[0m\u001b[0;34m\u001b[0m\u001b[0m\n\u001b[0;32m-> 3081\u001b[0;31m                 \u001b[0;32mreturn\u001b[0m \u001b[0mself\u001b[0m\u001b[0;34m.\u001b[0m\u001b[0m_engine\u001b[0m\u001b[0;34m.\u001b[0m\u001b[0mget_loc\u001b[0m\u001b[0;34m(\u001b[0m\u001b[0mcasted_key\u001b[0m\u001b[0;34m)\u001b[0m\u001b[0;34m\u001b[0m\u001b[0;34m\u001b[0m\u001b[0m\n\u001b[0m\u001b[1;32m   3082\u001b[0m             \u001b[0;32mexcept\u001b[0m \u001b[0mKeyError\u001b[0m \u001b[0;32mas\u001b[0m \u001b[0merr\u001b[0m\u001b[0;34m:\u001b[0m\u001b[0;34m\u001b[0m\u001b[0;34m\u001b[0m\u001b[0m\n",
      "\u001b[0;32mpandas/_libs/index.pyx\u001b[0m in \u001b[0;36mpandas._libs.index.IndexEngine.get_loc\u001b[0;34m()\u001b[0m\n",
      "\u001b[0;32mpandas/_libs/index.pyx\u001b[0m in \u001b[0;36mpandas._libs.index.IndexEngine.get_loc\u001b[0;34m()\u001b[0m\n",
      "\u001b[0;32mpandas/_libs/hashtable_class_helper.pxi\u001b[0m in \u001b[0;36mpandas._libs.hashtable.PyObjectHashTable.get_item\u001b[0;34m()\u001b[0m\n",
      "\u001b[0;32mpandas/_libs/hashtable_class_helper.pxi\u001b[0m in \u001b[0;36mpandas._libs.hashtable.PyObjectHashTable.get_item\u001b[0;34m()\u001b[0m\n",
      "\u001b[0;31mKeyError\u001b[0m: 'breath_id'",
      "\nThe above exception was the direct cause of the following exception:\n",
      "\u001b[0;31mKeyError\u001b[0m                                  Traceback (most recent call last)",
      "\u001b[0;32m/tmp/ipykernel_24/3225051072.py\u001b[0m in \u001b[0;36m<module>\u001b[0;34m\u001b[0m\n\u001b[1;32m      1\u001b[0m \u001b[0;31m# Didn't improve the model, so I'm skipping these for now\u001b[0m\u001b[0;34m\u001b[0m\u001b[0;34m\u001b[0m\u001b[0;34m\u001b[0m\u001b[0m\n\u001b[1;32m      2\u001b[0m \u001b[0mX_train\u001b[0m\u001b[0;34m[\u001b[0m\u001b[0;34m'u_in_cumsum'\u001b[0m\u001b[0;34m]\u001b[0m \u001b[0;34m=\u001b[0m \u001b[0;34m(\u001b[0m\u001b[0mX_train\u001b[0m\u001b[0;34m[\u001b[0m\u001b[0;34m'u_in'\u001b[0m\u001b[0;34m]\u001b[0m\u001b[0;34m)\u001b[0m\u001b[0;34m.\u001b[0m\u001b[0mgroupby\u001b[0m\u001b[0;34m(\u001b[0m\u001b[0mX_train\u001b[0m\u001b[0;34m[\u001b[0m\u001b[0;34m'breath_id'\u001b[0m\u001b[0;34m]\u001b[0m\u001b[0;34m)\u001b[0m\u001b[0;34m.\u001b[0m\u001b[0mcumsum\u001b[0m\u001b[0;34m(\u001b[0m\u001b[0;34m)\u001b[0m\u001b[0;34m\u001b[0m\u001b[0;34m\u001b[0m\u001b[0m\n\u001b[0;32m----> 3\u001b[0;31m \u001b[0mX_test\u001b[0m\u001b[0;34m[\u001b[0m\u001b[0;34m'u_in_cumsum'\u001b[0m\u001b[0;34m]\u001b[0m \u001b[0;34m=\u001b[0m \u001b[0;34m(\u001b[0m\u001b[0mX_test\u001b[0m\u001b[0;34m[\u001b[0m\u001b[0;34m'u_in'\u001b[0m\u001b[0;34m]\u001b[0m\u001b[0;34m)\u001b[0m\u001b[0;34m.\u001b[0m\u001b[0mgroupby\u001b[0m\u001b[0;34m(\u001b[0m\u001b[0mX_test\u001b[0m\u001b[0;34m[\u001b[0m\u001b[0;34m'breath_id'\u001b[0m\u001b[0;34m]\u001b[0m\u001b[0;34m)\u001b[0m\u001b[0;34m.\u001b[0m\u001b[0mcumsum\u001b[0m\u001b[0;34m(\u001b[0m\u001b[0;34m)\u001b[0m\u001b[0;34m\u001b[0m\u001b[0;34m\u001b[0m\u001b[0m\n\u001b[0m\u001b[1;32m      4\u001b[0m \u001b[0mX_train\u001b[0m\u001b[0;34m[\u001b[0m\u001b[0;34m'area'\u001b[0m\u001b[0;34m]\u001b[0m \u001b[0;34m=\u001b[0m \u001b[0mX_train\u001b[0m\u001b[0;34m[\u001b[0m\u001b[0;34m'time_step'\u001b[0m\u001b[0;34m]\u001b[0m \u001b[0;34m*\u001b[0m \u001b[0mX_train\u001b[0m\u001b[0;34m[\u001b[0m\u001b[0;34m'u_in'\u001b[0m\u001b[0;34m]\u001b[0m\u001b[0;34m\u001b[0m\u001b[0;34m\u001b[0m\u001b[0m\n\u001b[1;32m      5\u001b[0m \u001b[0mX_train\u001b[0m\u001b[0;34m[\u001b[0m\u001b[0;34m'area'\u001b[0m\u001b[0;34m]\u001b[0m \u001b[0;34m=\u001b[0m \u001b[0mX_train\u001b[0m\u001b[0;34m.\u001b[0m\u001b[0mgroupby\u001b[0m\u001b[0;34m(\u001b[0m\u001b[0;34m'breath_id'\u001b[0m\u001b[0;34m)\u001b[0m\u001b[0;34m[\u001b[0m\u001b[0;34m'area'\u001b[0m\u001b[0;34m]\u001b[0m\u001b[0;34m.\u001b[0m\u001b[0mcumsum\u001b[0m\u001b[0;34m(\u001b[0m\u001b[0;34m)\u001b[0m\u001b[0;34m\u001b[0m\u001b[0;34m\u001b[0m\u001b[0m\n",
      "\u001b[0;32m/opt/conda/lib/python3.7/site-packages/pandas/core/frame.py\u001b[0m in \u001b[0;36m__getitem__\u001b[0;34m(self, key)\u001b[0m\n\u001b[1;32m   3022\u001b[0m             \u001b[0;32mif\u001b[0m \u001b[0mself\u001b[0m\u001b[0;34m.\u001b[0m\u001b[0mcolumns\u001b[0m\u001b[0;34m.\u001b[0m\u001b[0mnlevels\u001b[0m \u001b[0;34m>\u001b[0m \u001b[0;36m1\u001b[0m\u001b[0;34m:\u001b[0m\u001b[0;34m\u001b[0m\u001b[0;34m\u001b[0m\u001b[0m\n\u001b[1;32m   3023\u001b[0m                 \u001b[0;32mreturn\u001b[0m \u001b[0mself\u001b[0m\u001b[0;34m.\u001b[0m\u001b[0m_getitem_multilevel\u001b[0m\u001b[0;34m(\u001b[0m\u001b[0mkey\u001b[0m\u001b[0;34m)\u001b[0m\u001b[0;34m\u001b[0m\u001b[0;34m\u001b[0m\u001b[0m\n\u001b[0;32m-> 3024\u001b[0;31m             \u001b[0mindexer\u001b[0m \u001b[0;34m=\u001b[0m \u001b[0mself\u001b[0m\u001b[0;34m.\u001b[0m\u001b[0mcolumns\u001b[0m\u001b[0;34m.\u001b[0m\u001b[0mget_loc\u001b[0m\u001b[0;34m(\u001b[0m\u001b[0mkey\u001b[0m\u001b[0;34m)\u001b[0m\u001b[0;34m\u001b[0m\u001b[0;34m\u001b[0m\u001b[0m\n\u001b[0m\u001b[1;32m   3025\u001b[0m             \u001b[0;32mif\u001b[0m \u001b[0mis_integer\u001b[0m\u001b[0;34m(\u001b[0m\u001b[0mindexer\u001b[0m\u001b[0;34m)\u001b[0m\u001b[0;34m:\u001b[0m\u001b[0;34m\u001b[0m\u001b[0;34m\u001b[0m\u001b[0m\n\u001b[1;32m   3026\u001b[0m                 \u001b[0mindexer\u001b[0m \u001b[0;34m=\u001b[0m \u001b[0;34m[\u001b[0m\u001b[0mindexer\u001b[0m\u001b[0;34m]\u001b[0m\u001b[0;34m\u001b[0m\u001b[0;34m\u001b[0m\u001b[0m\n",
      "\u001b[0;32m/opt/conda/lib/python3.7/site-packages/pandas/core/indexes/base.py\u001b[0m in \u001b[0;36mget_loc\u001b[0;34m(self, key, method, tolerance)\u001b[0m\n\u001b[1;32m   3081\u001b[0m                 \u001b[0;32mreturn\u001b[0m \u001b[0mself\u001b[0m\u001b[0;34m.\u001b[0m\u001b[0m_engine\u001b[0m\u001b[0;34m.\u001b[0m\u001b[0mget_loc\u001b[0m\u001b[0;34m(\u001b[0m\u001b[0mcasted_key\u001b[0m\u001b[0;34m)\u001b[0m\u001b[0;34m\u001b[0m\u001b[0;34m\u001b[0m\u001b[0m\n\u001b[1;32m   3082\u001b[0m             \u001b[0;32mexcept\u001b[0m \u001b[0mKeyError\u001b[0m \u001b[0;32mas\u001b[0m \u001b[0merr\u001b[0m\u001b[0;34m:\u001b[0m\u001b[0;34m\u001b[0m\u001b[0;34m\u001b[0m\u001b[0m\n\u001b[0;32m-> 3083\u001b[0;31m                 \u001b[0;32mraise\u001b[0m \u001b[0mKeyError\u001b[0m\u001b[0;34m(\u001b[0m\u001b[0mkey\u001b[0m\u001b[0;34m)\u001b[0m \u001b[0;32mfrom\u001b[0m \u001b[0merr\u001b[0m\u001b[0;34m\u001b[0m\u001b[0;34m\u001b[0m\u001b[0m\n\u001b[0m\u001b[1;32m   3084\u001b[0m \u001b[0;34m\u001b[0m\u001b[0m\n\u001b[1;32m   3085\u001b[0m         \u001b[0;32mif\u001b[0m \u001b[0mtolerance\u001b[0m \u001b[0;32mis\u001b[0m \u001b[0;32mnot\u001b[0m \u001b[0;32mNone\u001b[0m\u001b[0;34m:\u001b[0m\u001b[0;34m\u001b[0m\u001b[0;34m\u001b[0m\u001b[0m\n",
      "\u001b[0;31mKeyError\u001b[0m: 'breath_id'"
     ]
    }
   ],
   "source": [
    "# Didn't improve the model, so I'm skipping these for now\n",
    "X_train['u_in_cumsum'] = (X_train['u_in']).groupby(X_train['breath_id']).cumsum()\n",
    "X_test['u_in_cumsum'] = (X_test['u_in']).groupby(X_test['breath_id']).cumsum()\n",
    "X_train['area'] = X_train['time_step'] * X_train['u_in']\n",
    "X_train['area'] = X_train.groupby('breath_id')['area'].cumsum()\n",
    "X_test['area'] = X_test['time_step'] * X_test['u_in']\n",
    "X_test['area'] = X_test.groupby('breath_id')['area'].cumsum()\n",
    "print(len(X_train))\n",
    "X_train['cross']= X_train['u_in']*X_train['u_out']\n",
    "X_train['cross2']= X_train['time_step']*X_train['u_out']\n",
    "X_test['cross']= X_test['u_in']*X_test['u_out']\n",
    "X_test['cross2']= X_test['time_step']*X_test['u_out']\n",
    "print(len(X_train))\n",
    "\n",
    "X_train['one'] = 1\n",
    "X_train['count'] = (X_train['one']).groupby(X_train['breath_id']).cumsum()\n",
    "X_train['u_in_cummean'] =X_train['u_in_cumsum'] /X_train['count']\n",
    "X_test['one'] = 1\n",
    "X_test['count'] = (X_test['one']).groupby(X_test['breath_id']).cumsum()\n",
    "X_test['u_in_cummean'] =X_test['u_in_cumsum'] /X_test['count']\n",
    "print(len(X_train))\n",
    "\n",
    "X_train['breath_id_lag']=X_train['breath_id'].shift(1).fillna(0)\n",
    "X_train['breath_id_lag2']=X_train['breath_id'].shift(2).fillna(0)\n",
    "X_train['breath_id_lagsame']=np.select([X_train['breath_id_lag']==X_train['breath_id']],[1],0)\n",
    "X_train['breath_id_lag2same']=np.select([X_train['breath_id_lag2']==X_train['breath_id']],[1],0)\n",
    "X_train['u_in_lag'] = X_train['u_in'].shift(1).fillna(0)\n",
    "X_train['u_in_lag'] = X_train['u_in_lag']*X_train['breath_id_lagsame']\n",
    "X_train['u_in_lag2'] = X_train['u_in'].shift(2).fillna(0)\n",
    "X_train['u_in_lag2'] = X_train['u_in_lag2']*X_train['breath_id_lag2same']\n",
    "X_train['u_out_lag2'] = X_train['u_out'].shift(2).fillna(0)\n",
    "X_train['u_out_lag2'] = X_train['u_out_lag2']*X_train['breath_id_lag2same']\n",
    "print(len(X_train))\n",
    "\n",
    "X_test['breath_id_lag']=X_test['breath_id'].shift(1).fillna(0)\n",
    "X_test['breath_id_lag2']=X_test['breath_id'].shift(2).fillna(0)\n",
    "X_test['breath_id_lagsame']=np.select([X_test['breath_id_lag']==X_test['breath_id']],[1],0)\n",
    "X_test['breath_id_lag2same']=np.select([X_test['breath_id_lag2']==X_test['breath_id']],[1],0)\n",
    "X_test['u_in_lag'] = X_test['u_in'].shift(1).fillna(0)\n",
    "X_test['u_in_lag'] = X_test['u_in_lag']*X_test['breath_id_lagsame']\n",
    "X_test['u_in_lag2'] = X_test['u_in'].shift(2).fillna(0)\n",
    "X_test['u_in_lag2'] = X_test['u_in_lag2']*X_test['breath_id_lag2same']\n",
    "X_test['u_out_lag2'] = X_test['u_out'].shift(2).fillna(0)\n",
    "X_test['u_out_lag2'] = X_test['u_out_lag2']*X_test['breath_id_lag2same']\n",
    "print(len(X_train))\n",
    "\n",
    "\n",
    "#Lag features. \n",
    "#Number of lag features inspired by https://www.kaggle.com/tenffe/finetune-of-tensorflow-bidirectional-lstm\n",
    "# X_train['u_in_lag1_'] = X_train.groupby('breath_id')['u_in'].shift(1).fillna(0)\n",
    "# X_test['u_in_lag1_'] = X_test.groupby('breath_id')['u_in'].shift(1).fillna(0)\n",
    "# X_train['u_in_lag2_'] = X_train.groupby('breath_id')['u_in'].shift(2).fillna(0)\n",
    "# X_test['u_in_lag2_'] = X_test.groupby('breath_id')['u_in'].shift(2).fillna(0)\n",
    "# X_train['u_in_lag3_'] = X_train.groupby('breath_id')['u_in'].shift(3).fillna(0)\n",
    "# X_test['u_in_lag3_'] = X_test.groupby('breath_id')['u_in'].shift(3).fillna(0)\n",
    "# X_train['u_in_lag4_'] = X_train.groupby('breath_id')['u_in'].shift(4).fillna(0)\n",
    "# X_test['u_in_lag4_'] = X_test.groupby('breath_id')['u_in'].shift(4).fillna(0)\n",
    "print(len(X_train))\n",
    "\n",
    "X_train['u_in_lag-1'] = X_train.groupby('breath_id')['u_in'].shift(-1).fillna(0)\n",
    "X_test['u_in_lag-1'] = X_test.groupby('breath_id')['u_in'].shift(-1).fillna(0)\n",
    "X_train['u_in_lag-2'] = X_train.groupby('breath_id')['u_in'].shift(-2).fillna(0)\n",
    "X_test['u_in_lag-2'] = X_test.groupby('breath_id')['u_in'].shift(-2).fillna(0)\n",
    "X_train['u_in_lag-3'] = X_train.groupby('breath_id')['u_in'].shift(-3).fillna(0)\n",
    "X_test['u_in_lag-3'] = X_test.groupby('breath_id')['u_in'].shift(-3).fillna(0)\n",
    "X_train['u_in_lag-4'] = X_train.groupby('breath_id')['u_in'].shift(-4).fillna(0)\n",
    "X_test['u_in_lag-4'] = X_test.groupby('breath_id')['u_in'].shift(-4).fillna(0)\n",
    "\n",
    "X_train['u_out_lag-1'] = X_train.groupby('breath_id')['u_out'].shift(-1).fillna(0)\n",
    "X_test['u_out_lag-1'] = X_test.groupby('breath_id')['u_out'].shift(-1).fillna(0)\n",
    "X_train['u_out_lag-2'] = X_train.groupby('breath_id')['u_out'].shift(-2).fillna(0)\n",
    "X_test['u_out_lag-2'] = X_test.groupby('breath_id')['u_out'].shift(-2).fillna(0)\n",
    "X_train['u_out_lag-3'] = X_train.groupby('breath_id')['u_out'].shift(-3).fillna(0)\n",
    "X_test['u_out_lag-3'] = X_test.groupby('breath_id')['u_out'].shift(-3).fillna(0)\n",
    "X_train['u_out_lag-4'] = X_train.groupby('breath_id')['u_out'].shift(-4).fillna(0)\n",
    "X_test['u_out_lag-4'] = X_test.groupby('breath_id')['u_out'].shift(-4).fillna(0)\n",
    "print(len(X_train))\n",
    "\n",
    "#Window features\n",
    "#Choice of features inspired vy https://www.kaggle.com/tenffe/finetune-of-tensorflow-bidirectional-lstm\n",
    "X_train['breath_id__u_in__max'] = X_train.groupby(['breath_id'])['u_in'].transform('max')\n",
    "X_test['breath_id__u_in__max'] = X_test.groupby(['breath_id'])['u_in'].transform('max')\n",
    "X_train['breath_id__u_in__mean'] = X_train.groupby(['breath_id'])['u_in'].transform('mean')\n",
    "X_test['breath_id__u_in__mean'] = X_test.groupby(['breath_id'])['u_in'].transform('mean')\n",
    "print(len(X_train))\n",
    "\n",
    "X_train['breath_id__u_out__max'] = X_train.groupby(['breath_id'])['u_out'].transform('max')\n",
    "X_test['breath_id__u_out__max'] = X_test.groupby(['breath_id'])['u_out'].transform('max')\n",
    "X_train['breath_id__u_out__mean'] = X_train.groupby(['breath_id'])['u_out'].transform('mean')\n",
    "X_test['breath_id__u_out__mean'] = X_test.groupby(['breath_id'])['u_out'].transform('mean')\n",
    "\n",
    "X_train['R'] = X_train['R'].astype(str)\n",
    "X_train['C'] = X_train['C'].astype(str)\n",
    "X_train['RC'] = X_train['R']+X_train['C']\n",
    "X_test['R'] = X_test['R'].astype(str)\n",
    "X_test['C'] = X_test['C'].astype(str)\n",
    "X_test['RC'] = X_test['R']+\"_\"+X_test['C']\n",
    "print(len(X_train))\n",
    "\n",
    "X_train = X_train.drop(['R','C','breath_id','one','count','breath_id_lag','breath_id_lag2','breath_id_lagsame','breath_id_lag2same','u_out_lag2'], axis = 1)\n",
    "X_test = X_test.drop(['R','C','breath_id','one','count','breath_id_lag','breath_id_lag2','breath_id_lagsame','breath_id_lag2same','u_out_lag2'], axis = 1)\n",
    "\n",
    "print(len(X_train))\n",
    "\n",
    "X_train"
   ]
  },
  {
   "cell_type": "code",
   "execution_count": null,
   "id": "2516056f",
   "metadata": {
    "execution": {
     "iopub.execute_input": "2021-11-14T05:43:45.390692Z",
     "iopub.status.busy": "2021-11-14T05:43:45.390338Z",
     "iopub.status.idle": "2021-11-14T05:43:46.469159Z",
     "shell.execute_reply": "2021-11-14T05:43:46.468258Z",
     "shell.execute_reply.started": "2021-11-14T05:43:45.390654Z"
    },
    "papermill": {
     "duration": null,
     "end_time": null,
     "exception": null,
     "start_time": null,
     "status": "pending"
    },
    "tags": []
   },
   "outputs": [],
   "source": [
    "# Converts the string fields (RC) to one hot encoded fields\n",
    "X_train = pd.get_dummies(X_train)\n",
    "X_test = pd.get_dummies(X_test)\n"
   ]
  },
  {
   "cell_type": "code",
   "execution_count": null,
   "id": "7862f7ff",
   "metadata": {
    "execution": {
     "iopub.execute_input": "2021-11-14T06:16:50.764128Z",
     "iopub.status.busy": "2021-11-14T06:16:50.763864Z",
     "iopub.status.idle": "2021-11-14T06:18:30.359807Z",
     "shell.execute_reply": "2021-11-14T06:18:30.359014Z",
     "shell.execute_reply.started": "2021-11-14T06:16:50.764100Z"
    },
    "papermill": {
     "duration": null,
     "end_time": null,
     "exception": null,
     "start_time": null,
     "status": "pending"
    },
    "tags": []
   },
   "outputs": [],
   "source": [
    "# Change values to include a masking layer when u_out == 1 since that is not graded in the final model\n",
    "for i, x in X_train.iterrows():\n",
    "    if x['u_out'] == 1:\n",
    "        for column in X_train.columns:\n",
    "            X_train[column][i] = -1"
   ]
  },
  {
   "cell_type": "code",
   "execution_count": null,
   "id": "77054df3",
   "metadata": {
    "execution": {
     "iopub.execute_input": "2021-11-14T06:18:30.361786Z",
     "iopub.status.busy": "2021-11-14T06:18:30.361505Z",
     "iopub.status.idle": "2021-11-14T06:18:30.381449Z",
     "shell.execute_reply": "2021-11-14T06:18:30.380720Z",
     "shell.execute_reply.started": "2021-11-14T06:18:30.361756Z"
    },
    "papermill": {
     "duration": null,
     "end_time": null,
     "exception": null,
     "start_time": null,
     "status": "pending"
    },
    "tags": []
   },
   "outputs": [],
   "source": [
    "X_train[150:200]"
   ]
  },
  {
   "cell_type": "markdown",
   "id": "f162b72b",
   "metadata": {
    "papermill": {
     "duration": null,
     "end_time": null,
     "exception": null,
     "start_time": null,
     "status": "pending"
    },
    "tags": []
   },
   "source": []
  },
  {
   "cell_type": "code",
   "execution_count": null,
   "id": "4de99f06",
   "metadata": {
    "execution": {
     "iopub.execute_input": "2021-11-14T06:18:30.383330Z",
     "iopub.status.busy": "2021-11-14T06:18:30.382807Z",
     "iopub.status.idle": "2021-11-14T06:18:30.391947Z",
     "shell.execute_reply": "2021-11-14T06:18:30.391203Z",
     "shell.execute_reply.started": "2021-11-14T06:18:30.383290Z"
    },
    "papermill": {
     "duration": null,
     "end_time": null,
     "exception": null,
     "start_time": null,
     "status": "pending"
    },
    "tags": []
   },
   "outputs": [],
   "source": [
    "# Reshape the data\n",
    "X_train = X_train.values.reshape(-1,160,5) # Reshaping into the 3 dimensional tensor that is needed for a recurrent neural network\n",
    "Y_train = Y_train.values.reshape(-1,160,1)\n",
    "# Only needed if feature engineering is used\n",
    "# X_train = X_train.values.reshape(-1,160,31) # Reshaping into the 3 dimensional tensor that is needed for a recurrent neural network\n",
    "# Y_train = Y_train.values.reshape(-1,160,1)\n"
   ]
  },
  {
   "cell_type": "code",
   "execution_count": null,
   "id": "4afb6c9a",
   "metadata": {
    "execution": {
     "iopub.execute_input": "2021-11-14T06:18:30.394152Z",
     "iopub.status.busy": "2021-11-14T06:18:30.393836Z",
     "iopub.status.idle": "2021-11-14T06:18:30.404212Z",
     "shell.execute_reply": "2021-11-14T06:18:30.403521Z",
     "shell.execute_reply.started": "2021-11-14T06:18:30.394118Z"
    },
    "papermill": {
     "duration": null,
     "end_time": null,
     "exception": null,
     "start_time": null,
     "status": "pending"
    },
    "tags": []
   },
   "outputs": [],
   "source": [
    "# Find the dimensions\n",
    "print(X_train.shape)\n",
    "Y_train.shape"
   ]
  },
  {
   "cell_type": "code",
   "execution_count": null,
   "id": "510e8bac",
   "metadata": {
    "execution": {
     "iopub.execute_input": "2021-11-14T06:19:03.549234Z",
     "iopub.status.busy": "2021-11-14T06:19:03.548969Z",
     "iopub.status.idle": "2021-11-14T06:19:03.556965Z",
     "shell.execute_reply": "2021-11-14T06:19:03.555263Z",
     "shell.execute_reply.started": "2021-11-14T06:19:03.549207Z"
    },
    "papermill": {
     "duration": null,
     "end_time": null,
     "exception": null,
     "start_time": null,
     "status": "pending"
    },
    "tags": []
   },
   "outputs": [],
   "source": [
    "# import packages\n",
    "from tensorflow.keras.models import Sequential \n",
    "from tensorflow.keras import layers\n",
    "from tensorflow.keras.metrics import MeanAbsoluteError\n",
    "\n",
    "# Taken from https://www.kaggle.com/valentinateslenko/ventilator-pressure-tensorflow-feature-engineering\n",
    "def BidirLSTM(units):\n",
    "    return layers.Bidirectional(layers.LSTM(units, return_sequences=True))\n",
    "\n",
    "def BidirGRU(units):\n",
    "    return layers.Bidirectional(layers.GRU(units, return_sequences=True, dropout=0.00004))\n",
    "\n",
    "def make_lstm_model():\n",
    "    return Sequential([\n",
    "            layers.Input(shape = (160,5)),\n",
    "            layers.Masking(mask_value = -1),\n",
    "            BidirGRU(500),\n",
    "            BidirGRU(400),\n",
    "            BidirGRU(300),\n",
    "            BidirGRU(200),\n",
    "            layers.Dense(200, activation='swish'),\n",
    "            layers.Dense(1, activation = 'linear')\n",
    "        ])"
   ]
  },
  {
   "cell_type": "code",
   "execution_count": null,
   "id": "f3adec31",
   "metadata": {
    "execution": {
     "iopub.execute_input": "2021-11-14T06:19:17.823950Z",
     "iopub.status.busy": "2021-11-14T06:19:17.823320Z",
     "iopub.status.idle": "2021-11-14T06:24:54.386169Z",
     "shell.execute_reply": "2021-11-14T06:24:54.385380Z",
     "shell.execute_reply.started": "2021-11-14T06:19:17.823912Z"
    },
    "papermill": {
     "duration": null,
     "end_time": null,
     "exception": null,
     "start_time": null,
     "status": "pending"
    },
    "tags": []
   },
   "outputs": [],
   "source": [
    "model = make_lstm_model()\n",
    "model.compile(loss='mae', optimizer = 'adam',\n",
    "              metrics=[MeanAbsoluteError()])\n",
    "\n",
    "model.fit(X_train, Y_train,\n",
    "batch_size = 1000, epochs=100)\n",
    "# MAE of 2.523 on the public leaderboard with only 80K rows of data\n",
    "# MAE of 2.8245 with feature engineering on the public leaderboard"
   ]
  },
  {
   "cell_type": "code",
   "execution_count": null,
   "id": "affb4689",
   "metadata": {
    "execution": {
     "iopub.execute_input": "2021-11-14T05:31:40.619469Z",
     "iopub.status.busy": "2021-11-14T05:31:40.619194Z",
     "iopub.status.idle": "2021-11-14T05:31:41.784302Z",
     "shell.execute_reply": "2021-11-14T05:31:41.7833Z",
     "shell.execute_reply.started": "2021-11-14T05:31:40.619441Z"
    },
    "papermill": {
     "duration": null,
     "end_time": null,
     "exception": null,
     "start_time": null,
     "status": "pending"
    },
    "tags": []
   },
   "outputs": [],
   "source": [
    "X_test"
   ]
  },
  {
   "cell_type": "code",
   "execution_count": null,
   "id": "4d9a1876",
   "metadata": {
    "execution": {
     "iopub.execute_input": "2021-11-14T06:34:58.025569Z",
     "iopub.status.busy": "2021-11-14T06:34:58.024806Z",
     "iopub.status.idle": "2021-11-14T06:35:40.575673Z",
     "shell.execute_reply": "2021-11-14T06:35:40.574867Z",
     "shell.execute_reply.started": "2021-11-14T06:34:58.025514Z"
    },
    "papermill": {
     "duration": null,
     "end_time": null,
     "exception": null,
     "start_time": null,
     "status": "pending"
    },
    "tags": []
   },
   "outputs": [],
   "source": [
    "# Make the predictions\n",
    "\n",
    "X_test = X_test.drop(axis=1, columns=['breath_id']) # Don't need to drop if doing the feature engineering\n",
    "X_test = X_test.values.reshape(-1,160,5)\n",
    "Y_test = model.predict(X_test)"
   ]
  },
  {
   "cell_type": "code",
   "execution_count": null,
   "id": "7eb45902",
   "metadata": {
    "execution": {
     "iopub.execute_input": "2021-11-14T06:34:23.492441Z",
     "iopub.status.busy": "2021-11-14T06:34:23.491875Z",
     "iopub.status.idle": "2021-11-14T06:34:23.497657Z",
     "shell.execute_reply": "2021-11-14T06:34:23.496964Z",
     "shell.execute_reply.started": "2021-11-14T06:34:23.492404Z"
    },
    "papermill": {
     "duration": null,
     "end_time": null,
     "exception": null,
     "start_time": null,
     "status": "pending"
    },
    "tags": []
   },
   "outputs": [],
   "source": [
    "X_test.shape"
   ]
  },
  {
   "cell_type": "code",
   "execution_count": null,
   "id": "a5ac84c7",
   "metadata": {
    "execution": {
     "iopub.execute_input": "2021-11-14T06:35:40.579288Z",
     "iopub.status.busy": "2021-11-14T06:35:40.579083Z",
     "iopub.status.idle": "2021-11-14T06:35:40.585172Z",
     "shell.execute_reply": "2021-11-14T06:35:40.584501Z",
     "shell.execute_reply.started": "2021-11-14T06:35:40.579265Z"
    },
    "papermill": {
     "duration": null,
     "end_time": null,
     "exception": null,
     "start_time": null,
     "status": "pending"
    },
    "tags": []
   },
   "outputs": [],
   "source": [
    "export = Y_test.reshape(-1,1)"
   ]
  },
  {
   "cell_type": "code",
   "execution_count": null,
   "id": "069120f8",
   "metadata": {
    "execution": {
     "iopub.execute_input": "2021-11-14T06:35:42.678480Z",
     "iopub.status.busy": "2021-11-14T06:35:42.678056Z",
     "iopub.status.idle": "2021-11-14T06:35:42.690520Z",
     "shell.execute_reply": "2021-11-14T06:35:42.689784Z",
     "shell.execute_reply.started": "2021-11-14T06:35:42.678440Z"
    },
    "papermill": {
     "duration": null,
     "end_time": null,
     "exception": null,
     "start_time": null,
     "status": "pending"
    },
    "tags": []
   },
   "outputs": [],
   "source": [
    "export"
   ]
  },
  {
   "cell_type": "code",
   "execution_count": null,
   "id": "f82c9159",
   "metadata": {
    "execution": {
     "iopub.execute_input": "2021-11-14T06:35:44.722274Z",
     "iopub.status.busy": "2021-11-14T06:35:44.722019Z",
     "iopub.status.idle": "2021-11-14T06:35:46.414690Z",
     "shell.execute_reply": "2021-11-14T06:35:46.413932Z",
     "shell.execute_reply.started": "2021-11-14T06:35:44.722246Z"
    },
    "papermill": {
     "duration": null,
     "end_time": null,
     "exception": null,
     "start_time": null,
     "status": "pending"
    },
    "tags": []
   },
   "outputs": [],
   "source": [
    "id_ = list(np.array(list(range(len(export)))) + 1)"
   ]
  },
  {
   "cell_type": "code",
   "execution_count": null,
   "id": "f204abfd",
   "metadata": {
    "execution": {
     "iopub.execute_input": "2021-11-14T06:35:46.417015Z",
     "iopub.status.busy": "2021-11-14T06:35:46.416276Z",
     "iopub.status.idle": "2021-11-14T06:35:51.005670Z",
     "shell.execute_reply": "2021-11-14T06:35:51.004913Z",
     "shell.execute_reply.started": "2021-11-14T06:35:46.416975Z"
    },
    "papermill": {
     "duration": null,
     "end_time": null,
     "exception": null,
     "start_time": null,
     "status": "pending"
    },
    "tags": []
   },
   "outputs": [],
   "source": [
    "list(np.ndarray.flatten(export))\n",
    "\n",
    "fin = pd.DataFrame({'id':id_, 'pressure': list(np.ndarray.flatten(export))})"
   ]
  },
  {
   "cell_type": "code",
   "execution_count": null,
   "id": "1a5d6ed9",
   "metadata": {
    "execution": {
     "iopub.execute_input": "2021-11-14T06:35:51.007304Z",
     "iopub.status.busy": "2021-11-14T06:35:51.007063Z",
     "iopub.status.idle": "2021-11-14T06:35:51.013683Z",
     "shell.execute_reply": "2021-11-14T06:35:51.012876Z",
     "shell.execute_reply.started": "2021-11-14T06:35:51.007272Z"
    },
    "papermill": {
     "duration": null,
     "end_time": null,
     "exception": null,
     "start_time": null,
     "status": "pending"
    },
    "tags": []
   },
   "outputs": [],
   "source": [
    "X_test.shape"
   ]
  },
  {
   "cell_type": "code",
   "execution_count": null,
   "id": "d44c0b13",
   "metadata": {
    "execution": {
     "iopub.execute_input": "2021-11-14T06:35:55.696345Z",
     "iopub.status.busy": "2021-11-14T06:35:55.696078Z",
     "iopub.status.idle": "2021-11-14T06:35:55.709623Z",
     "shell.execute_reply": "2021-11-14T06:35:55.707792Z",
     "shell.execute_reply.started": "2021-11-14T06:35:55.696316Z"
    },
    "papermill": {
     "duration": null,
     "end_time": null,
     "exception": null,
     "start_time": null,
     "status": "pending"
    },
    "tags": []
   },
   "outputs": [],
   "source": [
    "fin"
   ]
  },
  {
   "cell_type": "code",
   "execution_count": null,
   "id": "7ea6537a",
   "metadata": {
    "execution": {
     "iopub.execute_input": "2021-11-14T06:35:58.238701Z",
     "iopub.status.busy": "2021-11-14T06:35:58.238029Z",
     "iopub.status.idle": "2021-11-14T06:36:11.453451Z",
     "shell.execute_reply": "2021-11-14T06:36:11.452690Z",
     "shell.execute_reply.started": "2021-11-14T06:35:58.238667Z"
    },
    "papermill": {
     "duration": null,
     "end_time": null,
     "exception": null,
     "start_time": null,
     "status": "pending"
    },
    "tags": []
   },
   "outputs": [],
   "source": [
    "fin.to_csv('mysubmission.csv', index=False)"
   ]
  },
  {
   "cell_type": "code",
   "execution_count": null,
   "id": "832bdf2d",
   "metadata": {
    "execution": {
     "iopub.execute_input": "2021-11-03T23:57:56.327498Z",
     "iopub.status.busy": "2021-11-03T23:57:56.327083Z",
     "iopub.status.idle": "2021-11-03T23:58:38.703306Z",
     "shell.execute_reply": "2021-11-03T23:58:38.702368Z",
     "shell.execute_reply.started": "2021-11-03T23:57:56.327455Z"
    },
    "papermill": {
     "duration": null,
     "end_time": null,
     "exception": null,
     "start_time": null,
     "status": "pending"
    },
    "tags": []
   },
   "outputs": [],
   "source": [
    "X_train['u_in_cumsum'] = (X_train['u_in']).groupby(X_train['breath_id']).cumsum()\n",
    "X_test['u_in_cumsum'] = (X_test['u_in']).groupby(X_test['breath_id']).cumsum()\n",
    "X_train['area'] = X_train['time_step'] * X_train['u_in']\n",
    "X_train['area'] = X_train.groupby('breath_id')['area'].cumsum()\n",
    "X_test['area'] = X_test['time_step'] * X_test['u_in']\n",
    "X_test['area'] = X_test.groupby('breath_id')['area'].cumsum()\n",
    "print(len(X_train))\n",
    "X_train['cross']= X_train['u_in']*X_train['u_out']\n",
    "X_train['cross2']= X_train['time_step']*X_train['u_out']\n",
    "X_test['cross']= X_test['u_in']*X_test['u_out']\n",
    "X_test['cross2']= X_test['time_step']*X_test['u_out']\n",
    "print(len(X_train))\n",
    "\n",
    "X_train['one'] = 1\n",
    "X_train['count'] = (X_train['one']).groupby(X_train['breath_id']).cumsum()\n",
    "X_train['u_in_cummean'] =X_train['u_in_cumsum'] /X_train['count']\n",
    "X_test['one'] = 1\n",
    "X_test['count'] = (X_test['one']).groupby(X_test['breath_id']).cumsum()\n",
    "X_test['u_in_cummean'] =X_test['u_in_cumsum'] /X_test['count']\n",
    "print(len(X_train))\n",
    "\n",
    "X_train['breath_id_lag']=X_train['breath_id'].shift(1).fillna(0)\n",
    "X_train['breath_id_lag2']=X_train['breath_id'].shift(2).fillna(0)\n",
    "X_train['breath_id_lagsame']=np.select([X_train['breath_id_lag']==X_train['breath_id']],[1],0)\n",
    "X_train['breath_id_lag2same']=np.select([X_train['breath_id_lag2']==X_train['breath_id']],[1],0)\n",
    "X_train['u_in_lag'] = X_train['u_in'].shift(1).fillna(0)\n",
    "X_train['u_in_lag'] = X_train['u_in_lag']*X_train['breath_id_lagsame']\n",
    "X_train['u_in_lag2'] = X_train['u_in'].shift(2).fillna(0)\n",
    "X_train['u_in_lag2'] = X_train['u_in_lag2']*X_train['breath_id_lag2same']\n",
    "X_train['u_out_lag2'] = X_train['u_out'].shift(2).fillna(0)\n",
    "X_train['u_out_lag2'] = X_train['u_out_lag2']*X_train['breath_id_lag2same']\n",
    "print(len(X_train))\n",
    "\n",
    "X_test['breath_id_lag']=X_test['breath_id'].shift(1).fillna(0)\n",
    "X_test['breath_id_lag2']=X_test['breath_id'].shift(2).fillna(0)\n",
    "X_test['breath_id_lagsame']=np.select([X_test['breath_id_lag']==X_test['breath_id']],[1],0)\n",
    "X_test['breath_id_lag2same']=np.select([X_test['breath_id_lag2']==X_test['breath_id']],[1],0)\n",
    "X_test['u_in_lag'] = X_test['u_in'].shift(1).fillna(0)\n",
    "X_test['u_in_lag'] = X_test['u_in_lag']*X_test['breath_id_lagsame']\n",
    "X_test['u_in_lag2'] = X_test['u_in'].shift(2).fillna(0)\n",
    "X_test['u_in_lag2'] = X_test['u_in_lag2']*X_test['breath_id_lag2same']\n",
    "X_test['u_out_lag2'] = X_test['u_out'].shift(2).fillna(0)\n",
    "X_test['u_out_lag2'] = X_test['u_out_lag2']*X_test['breath_id_lag2same']\n",
    "print(len(X_train))\n",
    "\n",
    "\n",
    "#Lag features. \n",
    "#Number of lag features inspired by https://www.kaggle.com/tenffe/finetune-of-tensorflow-bidirectional-lstm\n",
    "# X_train['u_in_lag1_'] = X_train.groupby('breath_id')['u_in'].shift(1).fillna(0)\n",
    "# X_test['u_in_lag1_'] = X_test.groupby('breath_id')['u_in'].shift(1).fillna(0)\n",
    "# X_train['u_in_lag2_'] = X_train.groupby('breath_id')['u_in'].shift(2).fillna(0)\n",
    "# X_test['u_in_lag2_'] = X_test.groupby('breath_id')['u_in'].shift(2).fillna(0)\n",
    "# X_train['u_in_lag3_'] = X_train.groupby('breath_id')['u_in'].shift(3).fillna(0)\n",
    "# X_test['u_in_lag3_'] = X_test.groupby('breath_id')['u_in'].shift(3).fillna(0)\n",
    "# X_train['u_in_lag4_'] = X_train.groupby('breath_id')['u_in'].shift(4).fillna(0)\n",
    "# X_test['u_in_lag4_'] = X_test.groupby('breath_id')['u_in'].shift(4).fillna(0)\n",
    "print(len(X_train))\n",
    "\n",
    "X_train['u_in_lag-1'] = X_train.groupby('breath_id')['u_in'].shift(-1).fillna(0)\n",
    "X_test['u_in_lag-1'] = X_test.groupby('breath_id')['u_in'].shift(-1).fillna(0)\n",
    "X_train['u_in_lag-2'] = X_train.groupby('breath_id')['u_in'].shift(-2).fillna(0)\n",
    "X_test['u_in_lag-2'] = X_test.groupby('breath_id')['u_in'].shift(-2).fillna(0)\n",
    "X_train['u_in_lag-3'] = X_train.groupby('breath_id')['u_in'].shift(-3).fillna(0)\n",
    "X_test['u_in_lag-3'] = X_test.groupby('breath_id')['u_in'].shift(-3).fillna(0)\n",
    "X_train['u_in_lag-4'] = X_train.groupby('breath_id')['u_in'].shift(-4).fillna(0)\n",
    "X_test['u_in_lag-4'] = X_test.groupby('breath_id')['u_in'].shift(-4).fillna(0)\n",
    "\n",
    "X_train['u_out_lag-1'] = X_train.groupby('breath_id')['u_out'].shift(-1).fillna(0)\n",
    "X_test['u_out_lag-1'] = X_test.groupby('breath_id')['u_out'].shift(-1).fillna(0)\n",
    "X_train['u_out_lag-2'] = X_train.groupby('breath_id')['u_out'].shift(-2).fillna(0)\n",
    "X_test['u_out_lag-2'] = X_test.groupby('breath_id')['u_out'].shift(-2).fillna(0)\n",
    "X_train['u_out_lag-3'] = X_train.groupby('breath_id')['u_out'].shift(-3).fillna(0)\n",
    "X_test['u_out_lag-3'] = X_test.groupby('breath_id')['u_out'].shift(-3).fillna(0)\n",
    "X_train['u_out_lag-4'] = X_train.groupby('breath_id')['u_out'].shift(-4).fillna(0)\n",
    "X_test['u_out_lag-4'] = X_test.groupby('breath_id')['u_out'].shift(-4).fillna(0)\n",
    "print(len(X_train))\n",
    "\n",
    "#Window features\n",
    "#Choice of features inspired vy https://www.kaggle.com/tenffe/finetune-of-tensorflow-bidirectional-lstm\n",
    "X_train['breath_id__u_in__max'] = X_train.groupby(['breath_id'])['u_in'].transform('max')\n",
    "X_test['breath_id__u_in__max'] = X_test.groupby(['breath_id'])['u_in'].transform('max')\n",
    "X_train['breath_id__u_in__mean'] = X_train.groupby(['breath_id'])['u_in'].transform('mean')\n",
    "X_test['breath_id__u_in__mean'] = X_test.groupby(['breath_id'])['u_in'].transform('mean')\n",
    "print(len(X_train))\n",
    "\n",
    "X_train['breath_id__u_out__max'] = X_train.groupby(['breath_id'])['u_out'].transform('max')\n",
    "X_test['breath_id__u_out__max'] = X_test.groupby(['breath_id'])['u_out'].transform('max')\n",
    "X_train['breath_id__u_out__mean'] = X_train.groupby(['breath_id'])['u_out'].transform('mean')\n",
    "X_test['breath_id__u_out__mean'] = X_test.groupby(['breath_id'])['u_out'].transform('mean')\n",
    "\n",
    "X_train['R'] = X_train['R'].astype(str)\n",
    "X_train['C'] = X_train['C'].astype(str)\n",
    "X_train['RC'] = X_train['R']+X_train['C']\n",
    "X_test['R'] = X_test['R'].astype(str)\n",
    "X_test['C'] = X_test['C'].astype(str)\n",
    "X_test['RC'] = X_test['R']+\"_\"+X_test['C']\n",
    "print(len(X_train))\n",
    "\n",
    "X_train = X_train.drop(['R','C','breath_id','one','count','breath_id_lag','breath_id_lag2','breath_id_lagsame','breath_id_lag2same','u_out_lag2'], axis = 1)\n",
    "X_test = X_test.drop(['R','C','breath_id','one','count','breath_id_lag','breath_id_lag2','breath_id_lagsame','breath_id_lag2same','u_out_lag2'], axis = 1)\n",
    "\n",
    "print(len(X_train))\n",
    "\n",
    "X_train"
   ]
  },
  {
   "cell_type": "code",
   "execution_count": null,
   "id": "c6c17e04",
   "metadata": {
    "execution": {
     "iopub.execute_input": "2021-11-03T23:58:47.751816Z",
     "iopub.status.busy": "2021-11-03T23:58:47.74956Z",
     "iopub.status.idle": "2021-11-03T23:58:51.609068Z",
     "shell.execute_reply": "2021-11-03T23:58:51.608169Z",
     "shell.execute_reply.started": "2021-11-03T23:58:47.751757Z"
    },
    "papermill": {
     "duration": null,
     "end_time": null,
     "exception": null,
     "start_time": null,
     "status": "pending"
    },
    "tags": []
   },
   "outputs": [],
   "source": [
    "X_train = pd.get_dummies(X_train)\n",
    "X_test = pd.get_dummies(X_test)\n"
   ]
  },
  {
   "cell_type": "code",
   "execution_count": null,
   "id": "e9a334c5",
   "metadata": {
    "execution": {
     "iopub.execute_input": "2021-11-03T23:37:49.34134Z",
     "iopub.status.busy": "2021-11-03T23:37:49.341039Z",
     "iopub.status.idle": "2021-11-03T23:37:49.350195Z",
     "shell.execute_reply": "2021-11-03T23:37:49.349296Z",
     "shell.execute_reply.started": "2021-11-03T23:37:49.341312Z"
    },
    "papermill": {
     "duration": null,
     "end_time": null,
     "exception": null,
     "start_time": null,
     "status": "pending"
    },
    "tags": []
   },
   "outputs": [],
   "source": [
    "Y_train"
   ]
  },
  {
   "cell_type": "code",
   "execution_count": null,
   "id": "b91508be",
   "metadata": {
    "execution": {
     "iopub.execute_input": "2021-11-03T23:28:47.374073Z",
     "iopub.status.busy": "2021-11-03T23:28:47.371817Z",
     "iopub.status.idle": "2021-11-03T23:28:57.887355Z",
     "shell.execute_reply": "2021-11-03T23:28:57.886359Z",
     "shell.execute_reply.started": "2021-11-03T23:28:47.373966Z"
    },
    "papermill": {
     "duration": null,
     "end_time": null,
     "exception": null,
     "start_time": null,
     "status": "pending"
    },
    "tags": []
   },
   "outputs": [],
   "source": [
    "scaler = RobustScaler()\n",
    "\n",
    "X_train[X_train.columns] = scaler.fit_transform(X_train[X_train.columns])\n",
    "X_test[X_test.columns] = scaler.transform(X_test[X_test.columns])\n",
    "print(len(X_train))"
   ]
  },
  {
   "cell_type": "code",
   "execution_count": null,
   "id": "aeb9ffe2",
   "metadata": {
    "execution": {
     "iopub.execute_input": "2021-11-04T00:05:35.332988Z",
     "iopub.status.busy": "2021-11-04T00:05:35.332653Z",
     "iopub.status.idle": "2021-11-04T00:05:35.340317Z",
     "shell.execute_reply": "2021-11-04T00:05:35.339358Z",
     "shell.execute_reply.started": "2021-11-04T00:05:35.332954Z"
    },
    "papermill": {
     "duration": null,
     "end_time": null,
     "exception": null,
     "start_time": null,
     "status": "pending"
    },
    "tags": []
   },
   "outputs": [],
   "source": [
    "len(X_train)"
   ]
  },
  {
   "cell_type": "code",
   "execution_count": null,
   "id": "83c15db5",
   "metadata": {
    "execution": {
     "iopub.execute_input": "2021-11-04T00:05:46.564732Z",
     "iopub.status.busy": "2021-11-04T00:05:46.563802Z",
     "iopub.status.idle": "2021-11-04T00:05:47.212879Z",
     "shell.execute_reply": "2021-11-04T00:05:47.212017Z",
     "shell.execute_reply.started": "2021-11-04T00:05:46.564696Z"
    },
    "papermill": {
     "duration": null,
     "end_time": null,
     "exception": null,
     "start_time": null,
     "status": "pending"
    },
    "tags": []
   },
   "outputs": [],
   "source": [
    "\n",
    "print(len(X_train))\n",
    "# Y_train = Y_train.values.reshape(-1,160)\n",
    "X_train = X_train.values.reshape(-1,80,27+4) # Reshaping into the 3 dimensional tensor that is needed for a recurrent neural network\n",
    "# X_test = X_test.values.reshape(-1,160,27+4)"
   ]
  },
  {
   "cell_type": "code",
   "execution_count": null,
   "id": "7f283000",
   "metadata": {
    "execution": {
     "iopub.execute_input": "2021-11-04T00:06:14.663583Z",
     "iopub.status.busy": "2021-11-04T00:06:14.663207Z",
     "iopub.status.idle": "2021-11-04T00:06:14.670897Z",
     "shell.execute_reply": "2021-11-04T00:06:14.669696Z",
     "shell.execute_reply.started": "2021-11-04T00:06:14.663548Z"
    },
    "papermill": {
     "duration": null,
     "end_time": null,
     "exception": null,
     "start_time": null,
     "status": "pending"
    },
    "tags": []
   },
   "outputs": [],
   "source": [
    "X_train[0][0][0]"
   ]
  },
  {
   "cell_type": "code",
   "execution_count": null,
   "id": "cb2e8822",
   "metadata": {
    "execution": {
     "iopub.execute_input": "2021-10-30T21:15:47.172023Z",
     "iopub.status.busy": "2021-10-30T21:15:47.171571Z",
     "iopub.status.idle": "2021-10-30T21:15:47.176965Z",
     "shell.execute_reply": "2021-10-30T21:15:47.176116Z",
     "shell.execute_reply.started": "2021-10-30T21:15:47.171971Z"
    },
    "papermill": {
     "duration": null,
     "end_time": null,
     "exception": null,
     "start_time": null,
     "status": "pending"
    },
    "tags": []
   },
   "outputs": [],
   "source": [
    "def BidirLSTM(units):\n",
    "    return layers.Bidirectional(keras.layers.LSTM(units, return_sequences=True))"
   ]
  },
  {
   "cell_type": "code",
   "execution_count": null,
   "id": "9284c704",
   "metadata": {
    "execution": {
     "iopub.execute_input": "2021-10-30T21:15:47.178678Z",
     "iopub.status.busy": "2021-10-30T21:15:47.17842Z",
     "iopub.status.idle": "2021-10-30T21:15:47.188715Z",
     "shell.execute_reply": "2021-10-30T21:15:47.188054Z",
     "shell.execute_reply.started": "2021-10-30T21:15:47.17865Z"
    },
    "papermill": {
     "duration": null,
     "end_time": null,
     "exception": null,
     "start_time": null,
     "status": "pending"
    },
    "tags": []
   },
   "outputs": [],
   "source": [
    "def BidirGRU(units):\n",
    "    return layers.Bidirectional(keras.layers.GRU(units, return_sequences=True, dropout=0.00004))"
   ]
  },
  {
   "cell_type": "code",
   "execution_count": null,
   "id": "433b3db2",
   "metadata": {
    "execution": {
     "iopub.execute_input": "2021-10-30T21:15:47.19162Z",
     "iopub.status.busy": "2021-10-30T21:15:47.191321Z",
     "iopub.status.idle": "2021-10-30T21:15:47.200906Z",
     "shell.execute_reply": "2021-10-30T21:15:47.200244Z",
     "shell.execute_reply.started": "2021-10-30T21:15:47.191594Z"
    },
    "papermill": {
     "duration": null,
     "end_time": null,
     "exception": null,
     "start_time": null,
     "status": "pending"
    },
    "tags": []
   },
   "outputs": [],
   "source": [
    "def make_lstm_model():\n",
    "    return keras.models.Sequential([\n",
    "            layers.Input(shape = (160,27+4)),\n",
    "            BidirGRU(500),\n",
    "            BidirGRU(400),\n",
    "            BidirGRU(300),\n",
    "            BidirGRU(200),\n",
    "            layers.Dense(200, activation='swish'),\n",
    "            layers.Dense(1, activation = 'linear')\n",
    "        ])\n",
    "    "
   ]
  },
  {
   "cell_type": "code",
   "execution_count": null,
   "id": "fa0c0b93",
   "metadata": {
    "execution": {
     "iopub.execute_input": "2021-10-30T21:15:47.20472Z",
     "iopub.status.busy": "2021-10-30T21:15:47.203903Z",
     "iopub.status.idle": "2021-10-30T21:15:47.211725Z",
     "shell.execute_reply": "2021-10-30T21:15:47.210913Z",
     "shell.execute_reply.started": "2021-10-30T21:15:47.204677Z"
    },
    "papermill": {
     "duration": null,
     "end_time": null,
     "exception": null,
     "start_time": null,
     "status": "pending"
    },
    "tags": []
   },
   "outputs": [],
   "source": [
    "# model = make_lstm_model()\n",
    "# model.compile(loss='mae', optimizer = keras.optimizers.Adam(learning_rate=0.002),\n",
    "#                       metrics=[keras.metrics.MeanAbsoluteError()])"
   ]
  },
  {
   "cell_type": "code",
   "execution_count": null,
   "id": "e5b9161f",
   "metadata": {
    "execution": {
     "iopub.execute_input": "2021-10-30T21:15:47.213193Z",
     "iopub.status.busy": "2021-10-30T21:15:47.21292Z",
     "iopub.status.idle": "2021-10-30T21:15:47.224577Z",
     "shell.execute_reply": "2021-10-30T21:15:47.223933Z",
     "shell.execute_reply.started": "2021-10-30T21:15:47.213166Z"
    },
    "papermill": {
     "duration": null,
     "end_time": null,
     "exception": null,
     "start_time": null,
     "status": "pending"
    },
    "tags": []
   },
   "outputs": [],
   "source": [
    "\n",
    "early_stopping = callbacks.EarlyStopping(\n",
    "    monitor='val_loss',\n",
    "    patience=15,\n",
    "    min_delta=0.0000001,\n",
    "    restore_best_weights=True,\n",
    ")\n",
    "\n",
    "plateau = callbacks.ReduceLROnPlateau(\n",
    "    monitor='val_loss',\n",
    "    factor = 0.75,                                     \n",
    "    patience = 20,                                   \n",
    "    min_delt = 0.0000001,                                \n",
    "    cooldown = 0,                               \n",
    "    verbose = 1\n",
    ")"
   ]
  },
  {
   "cell_type": "code",
   "execution_count": null,
   "id": "b3398745",
   "metadata": {
    "execution": {
     "iopub.execute_input": "2021-10-30T21:15:47.226223Z",
     "iopub.status.busy": "2021-10-30T21:15:47.225674Z",
     "iopub.status.idle": "2021-10-30T21:15:53.173592Z",
     "shell.execute_reply": "2021-10-30T21:15:53.172987Z",
     "shell.execute_reply.started": "2021-10-30T21:15:47.22618Z"
    },
    "papermill": {
     "duration": null,
     "end_time": null,
     "exception": null,
     "start_time": null,
     "status": "pending"
    },
    "tags": []
   },
   "outputs": [],
   "source": [
    "def get_hardware_strategy():\n",
    "    try:\n",
    "        # TPU detection. No parameters necessary if TPU_NAME environment variable is\n",
    "        # set: this is always the case on Kaggle.\n",
    "        tpu = tf.distribute.cluster_resolver.TPUClusterResolver()\n",
    "        print('Running on TPU ', tpu.master())\n",
    "    except ValueError:\n",
    "        tpu = None\n",
    "\n",
    "    if tpu:\n",
    "        tf.config.experimental_connect_to_cluster(tpu)\n",
    "        tf.tpu.experimental.initialize_tpu_system(tpu)\n",
    "        strategy = tf.distribute.experimental.TPUStrategy(tpu)\n",
    "        tf.config.optimizer.set_jit(True)\n",
    "    else:\n",
    "        # Default distribution strategy in Tensorflow. Works on CPU and single GPU.\n",
    "        strategy = tf.distribute.get_strategy()\n",
    "\n",
    "    return tpu, strategy\n",
    "\n",
    "tpu, strategy = get_hardware_strategy()"
   ]
  },
  {
   "cell_type": "code",
   "execution_count": null,
   "id": "5700d9b8",
   "metadata": {
    "execution": {
     "iopub.execute_input": "2021-10-30T21:15:53.175252Z",
     "iopub.status.busy": "2021-10-30T21:15:53.174665Z"
    },
    "papermill": {
     "duration": null,
     "end_time": null,
     "exception": null,
     "start_time": null,
     "status": "pending"
    },
    "tags": []
   },
   "outputs": [],
   "source": [
    "# tpu = tf.distribute.cluster_resolver.TPUClusterResolver.connect()\n",
    "\n",
    "# # instantiate a distribution strategy\n",
    "# tpu_strategy = tf.distribute.experimental.TPUStrategy(tpu)\n",
    "# tf.config.optimizer.set_jit(True)\n",
    "\n",
    "with strategy.scope():\n",
    "    kfold = KFold(n_splits = 2, shuffle=True, random_state = 42)\n",
    "\n",
    "    pred = np.zeros((len(X_test),1))\n",
    "    #train_oof = np.zeros((train_len,1))\n",
    "    train_oof = np.zeros((len(X_train),160,1))\n",
    "\n",
    "    for fold, idx in enumerate(kfold.split(X=X_train, y=Y_train)):\n",
    "        \n",
    "        print(20*'--','Fold: ', fold+1, 20*'--')\n",
    "        \n",
    "        train_idx, val_idx = idx[0], idx[1]\n",
    "        xtrain = X_train[train_idx]\n",
    "        ytrain = Y_train[train_idx]\n",
    "        xval = X_train[val_idx]\n",
    "        yval = Y_train[val_idx]\n",
    "\n",
    "#         model = new_model()\n",
    "        model = make_lstm_model()\n",
    "        model.compile(loss='mae', optimizer = keras.optimizers.Adam(learning_rate=0.002),\n",
    "                      metrics=[keras.metrics.MeanAbsoluteError()])\n",
    "        \n",
    "\n",
    "\n",
    "        model.fit(xtrain, ytrain,\n",
    "        batch_size = 1024*6, epochs = 1000,\n",
    "        validation_data=(xval, yval), callbacks=[plateau])\n",
    "#         validation_data=(xval, yval), callbacks=[early_stopping, plateau])\n",
    "#         callbacks=[early_stopping, plateau, check]);\n",
    "\n",
    "        #create predictions\n",
    "        if(fold==0):\n",
    "            pred = model.predict(X_test).reshape(-1,1)/kfold.n_splits\n",
    "        else:\n",
    "            pred += model.predict(X_test).reshape(-1,1)/kfold.n_splits     \n",
    "        \n",
    "        #print(pred)\n",
    "\n",
    "        val_pred = model.predict(xval)\n",
    "\n",
    "        # getting out-of-fold predictions on training set\n",
    "        train_oof[val_idx] = val_pred"
   ]
  },
  {
   "cell_type": "code",
   "execution_count": null,
   "id": "013e75e0",
   "metadata": {
    "papermill": {
     "duration": null,
     "end_time": null,
     "exception": null,
     "start_time": null,
     "status": "pending"
    },
    "tags": []
   },
   "outputs": [],
   "source": [
    "train_oof = train_oof.reshape(-1,1)\n",
    "Y_train_reshaped = Y_train.reshape(-1,1)"
   ]
  },
  {
   "cell_type": "code",
   "execution_count": null,
   "id": "d7ef889e",
   "metadata": {
    "papermill": {
     "duration": null,
     "end_time": null,
     "exception": null,
     "start_time": null,
     "status": "pending"
    },
    "tags": []
   },
   "outputs": [],
   "source": [
    "print(\"OOF - MAE: {0:0.6f}\".format(mean_absolute_error(Y_train_reshaped,train_oof)))"
   ]
  },
  {
   "cell_type": "code",
   "execution_count": null,
   "id": "4a73bbf2",
   "metadata": {
    "papermill": {
     "duration": null,
     "end_time": null,
     "exception": null,
     "start_time": null,
     "status": "pending"
    },
    "tags": []
   },
   "outputs": [],
   "source": [
    "train_oof = pd.DataFrame(train_oof, columns = ['pressure'])\n",
    "train_oof.to_csv('train_oof.csv', index=False)\n",
    "\n",
    "train_oof"
   ]
  },
  {
   "cell_type": "code",
   "execution_count": null,
   "id": "2155ea20",
   "metadata": {
    "papermill": {
     "duration": null,
     "end_time": null,
     "exception": null,
     "start_time": null,
     "status": "pending"
    },
    "tags": []
   },
   "outputs": [],
   "source": [
    "submission['pressure'] = pred\n",
    "submission.to_csv(\"submission.csv\", index=False)\n",
    "submission"
   ]
  },
  {
   "cell_type": "code",
   "execution_count": null,
   "id": "18fa7609",
   "metadata": {
    "papermill": {
     "duration": null,
     "end_time": null,
     "exception": null,
     "start_time": null,
     "status": "pending"
    },
    "tags": []
   },
   "outputs": [],
   "source": []
  }
 ],
 "metadata": {
  "kernelspec": {
   "display_name": "Python 3",
   "language": "python",
   "name": "python3"
  },
  "language_info": {
   "codemirror_mode": {
    "name": "ipython",
    "version": 3
   },
   "file_extension": ".py",
   "mimetype": "text/x-python",
   "name": "python",
   "nbconvert_exporter": "python",
   "pygments_lexer": "ipython3",
   "version": "3.7.10"
  },
  "papermill": {
   "default_parameters": {},
   "duration": 30.663994,
   "end_time": "2021-11-14T06:41:03.627817",
   "environment_variables": {},
   "exception": true,
   "input_path": "__notebook__.ipynb",
   "output_path": "__notebook__.ipynb",
   "parameters": {},
   "start_time": "2021-11-14T06:40:32.963823",
   "version": "2.3.3"
  }
 },
 "nbformat": 4,
 "nbformat_minor": 5
}
